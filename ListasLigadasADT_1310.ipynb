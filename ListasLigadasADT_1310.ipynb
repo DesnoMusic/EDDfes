{
  "nbformat": 4,
  "nbformat_minor": 0,
  "metadata": {
    "colab": {
      "name": "ListasLigadasADT_1310.ipynb",
      "provenance": [],
      "collapsed_sections": [],
      "include_colab_link": true
    },
    "kernelspec": {
      "name": "python3",
      "display_name": "Python 3"
    },
    "language_info": {
      "name": "python"
    }
  },
  "cells": [
    {
      "cell_type": "markdown",
      "metadata": {
        "id": "view-in-github",
        "colab_type": "text"
      },
      "source": [
        "<a href=\"https://colab.research.google.com/github/DesnoMusic/EDDfes/blob/main/ListasLigadasADT_1310.ipynb\" target=\"_parent\"><img src=\"https://colab.research.google.com/assets/colab-badge.svg\" alt=\"Open In Colab\"/></a>"
      ]
    },
    {
      "cell_type": "code",
      "metadata": {
        "id": "knFFk7jO0Y9A"
      },
      "source": [
        "class Nodo:\n",
        "  def __init__(self, value, siguiente = None ):\n",
        "    self.data = value\n",
        "    self.next = siguiente"
      ],
      "execution_count": null,
      "outputs": []
    },
    {
      "cell_type": "code",
      "metadata": {
        "colab": {
          "base_uri": "https://localhost:8080/"
        },
        "id": "Qhy5W8UF0c0N",
        "outputId": "6efdd0d1-a3f2-48f3-db1f-bd4c7c05433c"
      },
      "source": [
        "head = Nodo(10)\n",
        "print(head.data)"
      ],
      "execution_count": null,
      "outputs": [
        {
          "output_type": "stream",
          "name": "stdout",
          "text": [
            "10\n"
          ]
        }
      ]
    },
    {
      "cell_type": "code",
      "metadata": {
        "colab": {
          "base_uri": "https://localhost:8080/"
        },
        "id": "xnOnL7p70gBd",
        "outputId": "ed5995cb-73d3-4b44-e82b-318ca9e1a20c"
      },
      "source": [
        "ead = Nodo(10)\n",
        "head.next = Nodo(20)\n",
        "print(f\"Primero = {head.data}\")\n",
        "print(f\"Segundo = {head.next.data}\")\n",
        "\n",
        "#lo mismo pero ahorrando codigo\n",
        "\n",
        "head = Nodo(10, Nodo(20))\n",
        "print(f\"Primero = {head.data}\")\n",
        "print(f\"Segundo = {head.next.data}\")\n",
        "\n",
        "#transversal\n",
        "curr_node = head\n",
        "while curr_node != None:\n",
        "  print(f\"|{curr_node.data}|-->\", end=\"\")\n",
        "  curr_node = curr_node.next\n",
        "\n",
        "#insertar el nodo 25 despues del 20 y antes del 30\n"
      ],
      "execution_count": null,
      "outputs": [
        {
          "output_type": "stream",
          "name": "stdout",
          "text": [
            "Primero = 10\n",
            "Segundo = 20\n",
            "Primero = 10\n",
            "Segundo = 20\n",
            "|10|-->|20|-->"
          ]
        }
      ]
    },
    {
      "cell_type": "code",
      "metadata": {
        "colab": {
          "base_uri": "https://localhost:8080/"
        },
        "id": "S5KtMglY0jp0",
        "outputId": "6a2c9f74-63b9-41e5-dbb4-1fecd1ec89ad"
      },
      "source": [
        "head = Nodo(10,Nodo(20, Nodo(30,Nodo(40))))\n",
        "#Nodo (valor, siguinte)\n",
        "\n",
        "#transversal\n",
        "curr_node = head\n",
        "while curr_node != None:\n",
        "  print(f\"|{curr_node.data}|-->\", end=\"\")\n",
        "  curr_node = curr_node.next\n",
        "print(\"\")\n",
        "# Imprimir el primero\n",
        "print(head.data)\n",
        "\n",
        "#imprimir el ultimo\n",
        "curr_node = head\n",
        "while curr_node.next != None:\n",
        "  curr_node = curr_node.next\n",
        "print(curr_node.data)\n",
        "\n",
        "curr_node = head\n",
        "while curr_node.data != 20:\n",
        "  curr_node = curr_node.next\n",
        "print(curr_node.data)\n",
        "\n",
        "#Crear el nodo 25\n",
        "\n",
        "curr_node.next = Nodo(25, curr_node.next)\n",
        "print(\"Despues de insertar el 25:\")\n",
        "\n",
        "#Transversal\n",
        "curr_node = head\n",
        "while curr_node != None:\n",
        "  print(f\"|{curr_node.data}|-->\", end=\"\")\n",
        "  curr_node = curr_node.next\n",
        "print(\"\")"
      ],
      "execution_count": null,
      "outputs": [
        {
          "output_type": "stream",
          "name": "stdout",
          "text": [
            "|10|-->|20|-->|30|-->|40|-->\n",
            "10\n",
            "40\n",
            "20\n",
            "Despues de insertar el 25:\n",
            "|10|-->|20|-->|25|-->|30|-->|40|-->\n"
          ]
        }
      ]
    },
    {
      "cell_type": "code",
      "metadata": {
        "id": "AkCMagJfuNPa"
      },
      "source": [
        "class Nodo:\n",
        "  def __init__(self,value,siguiente = None):\n",
        "    self.data= value\n",
        "    self.next= siguiente\n",
        "\n",
        "class LinkedList:\n",
        "  def __init__(self):\n",
        "    self.head = None\n",
        "\n",
        "  def is_empty (self):\n",
        "    return self.head == None\n",
        "\n",
        "  def get_tail(self):\n",
        "    if self.is_empty():\n",
        "      return None\n",
        "    else:\n",
        "      curr_node = self.head\n",
        "      while curr_node.next != None:\n",
        "        curr_node = curr_node.next\n",
        "      return curr_node\n",
        "\n",
        "  def append( self, value):\n",
        "    if self.head == None:\n",
        "        self.head = Nodo(value)\n",
        "    else:\n",
        "      curr_node = self.head\n",
        "      while curr_node.next != None:\n",
        "        curr_node = curr_node.next\n",
        "      curr_node.next = Nodo(value)\n",
        "\n",
        "  def transversal (self):\n",
        "    curr_node = self.head\n",
        "    while curr_node != None:\n",
        "      print(f\"| {curr_node.data} | -->\", end=\"\")\n",
        "      curr_node = curr_node.next\n",
        "    print (\"\")\n",
        "\n",
        "  def remove ( self , value):\n",
        "    if self.head == None:\n",
        "      print(\"Lista vacia, no se pudo remover nada\")\n",
        "    else:\n",
        "      curr_node = self.head\n",
        "      aux = None\n",
        "      while curr_node.data != value:\n",
        "        aux = curr_node\n",
        "        curr_node = curr_node.next\n",
        "        \n",
        "      if curr_node != None:\n",
        "        aux.next = curr_node.next\n",
        "        curr_node = None\n",
        "\n",
        "  def preppend ( self, value):\n",
        "    if self.head != None:\n",
        "      print(\"esta vacio\")\n",
        "    else:\n",
        "      aux = self.head\n",
        "      self.head = Nodo (value,aux)\n"
      ],
      "execution_count": null,
      "outputs": []
    },
    {
      "cell_type": "code",
      "metadata": {
        "colab": {
          "base_uri": "https://localhost:8080/"
        },
        "id": "pT1oQk8RuTgz",
        "outputId": "f7a7bd74-0ce2-4dbe-921d-18b3abb5cbc2"
      },
      "source": [
        "lista = LinkedList()\n",
        "\n",
        "if lista.is_empty:\n",
        "  print(\"La lista esta vacia\")\n",
        "else:\n",
        "  print(\"La lista no esta vacia\")\n",
        "\n",
        "lista.append(20)\n",
        "lista.append(110)\n",
        "lista.append(600)\n",
        "lista.append(10)\n",
        "nodo = lista.get_tail()\n",
        "if nodo != None:\n",
        "  print(nodo.data)\n",
        "else: \n",
        "  print(\"La lista esta vacia\")\n",
        "\n",
        "lista.transversal()\n",
        "lista.transversal()\n",
        "lista.preppend(6)\n",
        "lista.remove(10)"
      ],
      "execution_count": null,
      "outputs": [
        {
          "output_type": "stream",
          "name": "stdout",
          "text": [
            "La lista esta vacia\n",
            "10\n",
            "| 20 | -->| 110 | -->| 600 | -->| 10 | -->\n",
            "| 20 | -->| 110 | -->| 600 | -->| 10 | -->\n",
            "esta vacio\n"
          ]
        }
      ]
    },
    {
      "cell_type": "code",
      "metadata": {
        "id": "tr9zwVSKqL75"
      },
      "source": [
        "class NodoDoble:\n",
        "  def __init__(self, value, siguiente = None, previo = None ):\n",
        "    self.data = value\n",
        "    self.next = siguiente\n",
        "    self.prev = previo\n"
      ],
      "execution_count": null,
      "outputs": []
    },
    {
      "cell_type": "code",
      "metadata": {
        "colab": {
          "base_uri": "https://localhost:8080/"
        },
        "id": "kHkKmltFuSaU",
        "outputId": "5c4dde82-5a76-4c69-ce01-aadbdd39ed05"
      },
      "source": [
        "#Ejercicio 1\n",
        "head = NodoDoble(10)\n",
        "tail = head\n",
        "print(tail.data)\n",
        "\n",
        "#ejercicio 2\n",
        "print(\"ejercicio 2\")\n",
        "head = NodoDoble(10,NodoDoble(20))\n",
        "head.next.prev = head\n",
        "tail = head.next\n",
        "print(\"el primero:\", head.data)\n",
        "print(\"el primero:\", tail.prev.data)\n",
        "print(\"el segundo:\", head.next.data)\n",
        "print(\"el segundo:\", tail.data)\n",
        "\n",
        "#ejercicio 3\n",
        "print(\"Ejercicio 3\")\n",
        "head = NodoDoble(10,NodoDoble(20,NodoDoble(30,NodoDoble(40))))\n",
        "tail = head.next.next.next\n",
        "head.next.prev = head\n",
        "head.next.next.prev = head.next\n",
        "tail.prev = head.next.next\n",
        "print(\"el primero:\", head.data)\n",
        "print(\"el primero:\", tail.prev.prev.prev.data)\n",
        "print(\"el ultimo:\", tail.data)\n",
        "print(\"el ultimo:\", head.next.next.next.data)\n",
        "\n",
        "#Transversal\n",
        "curr_node = head\n",
        "while curr_node != None:\n",
        "  print(f\"|{curr_node.data}|-->\", end=\"\")\n",
        "  curr_node = curr_node.next\n",
        "print(\"\")\n",
        "\n",
        "#Reverse transversal\n",
        "curr_node = tail\n",
        "while curr_node != None:\n",
        "  print(f\"|{curr_node.data}|-->\", end=\"\")\n",
        "  curr_node = curr_node.prev\n",
        "print(\"\")\n",
        "\n",
        "#Ejercicio 4\n",
        "print(\"Ejercicio 4\")\n",
        "tail.next = NodoDoble( 50, None, tail)\n",
        "curr_node = head\n",
        "\n",
        "#Transversal\n",
        "while curr_node != None:\n",
        "  print(f\"|{curr_node.data}|-->\", end=\"\")\n",
        "  curr_node = curr_node.next\n",
        "print(\"\")\n",
        "\n",
        "#Reverse transversal\n",
        "curr_node = tail.next\n",
        "while curr_node != None:\n",
        "  print(f\"|{curr_node.data}|-->\", end=\"\")\n",
        "  curr_node = curr_node.prev\n",
        "print(\"\")\n",
        "\n"
      ],
      "execution_count": null,
      "outputs": [
        {
          "output_type": "stream",
          "name": "stdout",
          "text": [
            "10\n",
            "ejercicio 2\n",
            "el primero: 10\n",
            "el primero: 10\n",
            "el segundo: 20\n",
            "el segundo: 20\n",
            "Ejercicio 3\n",
            "el primero: 10\n",
            "el primero: 10\n",
            "el ultimo: 40\n",
            "el ultimo: 40\n",
            "|10|-->|20|-->|30|-->|40|-->\n",
            "|40|-->|30|-->|20|-->|10|-->\n",
            "Ejercicio 4\n",
            "|10|-->|20|-->|30|-->|40|-->|50|-->\n",
            "|50|-->|40|-->|30|-->|20|-->|10|-->\n"
          ]
        }
      ]
    },
    {
      "cell_type": "code",
      "metadata": {
        "id": "xnhrqC7e85nO"
      },
      "source": [
        "class DoubleLinkedList:\n",
        "  def __init__(self):\n",
        "    self.head = None\n",
        "    self.tail = None\n",
        "    self.size = 0\n",
        "\n",
        "  def get_size(self):\n",
        "    return self.size\n",
        "\n",
        "  def is_empty(self):\n",
        "    return self.size == 0\n",
        "\n",
        "  def append(self,value):\n",
        "    if self.is_empty():\n",
        "      self.head = NodoDoble(value)\n",
        "      self.tail = self.head\n",
        "\n",
        "    else:\n",
        "      self.tail.next = NodoDoble(value, None, tail)\n",
        "      self.tail = self.tail.next\n",
        "    self.size +=1\n",
        "\n",
        "  def transaversal(self):\n",
        "    curr_node = self.head\n",
        "    while curr_node !=None:\n",
        "      print(f\"|{curr_node.data}|-->\", end=\"\")\n",
        "      curr_node = curr_node.next\n",
        "      print(\"\")\n",
        "\n",
        "  def remove_from_tail(self, value ):\n",
        "    curr_node = self.head\n",
        "    while curr_node.data != value:\n",
        "      curr_node = curr_node.next\n",
        "\n",
        "    if curr_node.data != value:\n",
        "      curr_node.prev.next = curr_node.next\n",
        "      curr_node.next.prev = curr_node.prev\n",
        "    self.size -=1()\n"
      ],
      "execution_count": null,
      "outputs": []
    },
    {
      "cell_type": "code",
      "metadata": {
        "id": "jqs3TGHWvAc2"
      },
      "source": [
        ""
      ],
      "execution_count": null,
      "outputs": []
    }
  ]
}