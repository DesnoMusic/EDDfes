{
  "nbformat": 4,
  "nbformat_minor": 0,
  "metadata": {
    "colab": {
      "name": "tarea8.ipynb",
      "provenance": [],
      "authorship_tag": "ABX9TyM/9338g0MueiUSdTonPXqO",
      "include_colab_link": true
    },
    "kernelspec": {
      "name": "python3",
      "display_name": "Python 3"
    },
    "language_info": {
      "name": "python"
    }
  },
  "cells": [
    {
      "cell_type": "markdown",
      "metadata": {
        "id": "view-in-github",
        "colab_type": "text"
      },
      "source": [
        "<a href=\"https://colab.research.google.com/github/DesnoMusic/EDDfes/blob/main/tarea8.ipynb\" target=\"_parent\"><img src=\"https://colab.research.google.com/assets/colab-badge.svg\" alt=\"Open In Colab\"/></a>"
      ]
    },
    {
      "cell_type": "code",
      "metadata": {
        "colab": {
          "base_uri": "https://localhost:8080/",
          "height": 129
        },
        "id": "LqE-5wJV2G1i",
        "outputId": "2fa4469c-5250-43e9-fbae-3875f71cf1cc"
      },
      "source": [
        "#Ejercicio 1\n",
        "head = NodoDoble(10)\n",
        "tail = head\n",
        "print ( head.data )\n",
        "print ( tail.data )\n",
        "\n",
        "#Ejercicio 2\n",
        " \n",
        "print ( \"Ejercicio 2\" )\n",
        "head = NodoDoble (10 , NodoDoble(20))\n",
        "head.next.prev = head\n",
        "tail = head.next\n",
        "print(\"El primero:\" , head.data)\n",
        "print(\"El segundo:\" , tail.data)\n",
        "\n",
        "#Ejercicio 3\n",
        "\n",
        "head = NodoDoble(10, NodoDoble(20, NodoDoble(30, NodoDoble(40))))\n",
        "tail = head.next.next.next\n",
        "head.next.prev = head\n",
        "head.next.next.prev = head.next\n",
        "tail.prev = head.next.next\n",
        "print(\"El primero:\" , head.data)\n",
        "print(\"El primero:\" , tail.prev.prev.prev.data)\n",
        "\n",
        "print(\"El último:\" , tail.data)\n",
        "print(\"El último:\" , head.next.next.next.data)\n",
        "\n",
        "# agregar elemento al final\n",
        "    print(\"Agregando 50 al final\")\n",
        "    tail.next = NodoDoble( 50, None, tail)\n",
        "\n",
        "    # Transversal\n",
        "    curr_node = head\n",
        "    while curr_node != None:\n",
        "        print(f\" {curr_node.data } |  --> \" , end=\"\")\n",
        "        curr_node = curr_node.next\n",
        "    print(\"\")"
      ],
      "execution_count": 4,
      "outputs": [
        {
          "output_type": "error",
          "ename": "IndentationError",
          "evalue": "ignored",
          "traceback": [
            "\u001b[0;36m  File \u001b[0;32m\"<ipython-input-4-c09bc8009070>\"\u001b[0;36m, line \u001b[0;32m27\u001b[0m\n\u001b[0;31m    print(\"Agregando 50 al final\")\u001b[0m\n\u001b[0m    ^\u001b[0m\n\u001b[0;31mIndentationError\u001b[0m\u001b[0;31m:\u001b[0m unexpected indent\n"
          ]
        }
      ]
    },
    {
      "cell_type": "code",
      "metadata": {
        "id": "b3h4C3v92Su3"
      },
      "source": [
        ""
      ],
      "execution_count": null,
      "outputs": []
    }
  ]
}