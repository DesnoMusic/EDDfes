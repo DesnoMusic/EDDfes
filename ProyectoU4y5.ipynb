{
  "nbformat": 4,
  "nbformat_minor": 0,
  "metadata": {
    "colab": {
      "provenance": [],
      "authorship_tag": "ABX9TyNFoEfatoXSZhaV6urI/EqC",
      "include_colab_link": true
    },
    "kernelspec": {
      "name": "python3",
      "display_name": "Python 3"
    },
    "language_info": {
      "name": "python"
    }
  },
  "cells": [
    {
      "cell_type": "markdown",
      "metadata": {
        "id": "view-in-github",
        "colab_type": "text"
      },
      "source": [
        "<a href=\"https://colab.research.google.com/github/DesnoMusic/EDDfes/blob/main/ProyectoU4y5.ipynb\" target=\"_parent\"><img src=\"https://colab.research.google.com/assets/colab-badge.svg\" alt=\"Open In Colab\"/></a>"
      ]
    },
    {
      "cell_type": "code",
      "execution_count": null,
      "metadata": {
        "colab": {
          "base_uri": "https://localhost:8080/"
        },
        "id": "8gzuvol4KgDC",
        "outputId": "05f3b05d-9571-4276-c313-a9f2bff50a8b"
      },
      "outputs": [
        {
          "output_type": "stream",
          "name": "stdout",
          "text": [
            "Menu:\n",
            "1. Crear tarea\n",
            "2. Eliminar tarea\n",
            "3. Mostrar todas las tareas\n",
            "4. Mostrar tareas ordenadas por prioridad\n",
            "5. Mostrar tareas vencidas\n",
            "6. Salir\n"
          ]
        }
      ],
      "source": [
        "import datetime\n",
        "\n",
        "# Clase para representar una tarea\n",
        "class Tarea:\n",
        "    def __init__(self, titulo, descripcion, fecha_limite, prioridad):\n",
        "        self.titulo = titulo\n",
        "        self.descripcion = descripcion\n",
        "        self.fecha_limite = fecha_limite\n",
        "        self.prioridad = prioridad\n",
        "\n",
        "    def __str__(self):\n",
        "        return f\"{self.titulo}: {self.descripcion} (prioridad: {self.prioridad}, fecha límite: {self.fecha_limite.strftime('%d/%m/%Y')})\"\n",
        "\n",
        "# Clase para representar la lista de tareas\n",
        "class ListaTareas:\n",
        "    def __init__(self):\n",
        "        self.tareas = []\n",
        "\n",
        "    def agregar_tarea(self, tarea):\n",
        "        self.tareas.append(tarea)\n",
        "\n",
        "    def eliminar_tarea(self, tarea):\n",
        "        self.tareas.remove(tarea)\n",
        "\n",
        "    def mostrar_tareas(self):\n",
        "        for tarea in self.tareas:\n",
        "            print(tarea)\n",
        "\n",
        "    def mostrar_tareas_por_prioridad(self):\n",
        "        tareas_ordenadas = sorted(self.tareas, key=lambda tarea: tarea.prioridad, reverse=True)\n",
        "        for tarea in tareas_ordenadas:\n",
        "            print(tarea)\n",
        "\n",
        "    def mostrar_tareas_vencidas(self):\n",
        "        hoy = datetime.date.today()\n",
        "        tareas_vencidas = [tarea for tarea in self.tareas if tarea.fecha_limite < hoy]\n",
        "        for tarea in tareas_vencidas:\n",
        "            print(tarea)\n",
        "\n",
        "# Función para crear una nueva tarea\n",
        "def crear_tarea():\n",
        "    titulo = input(\"Introduce el título de la tarea: \")\n",
        "    descripcion = input(\"Introduce la descripción de la tarea: \")\n",
        "    fecha_limite = input(\"Introduce la fecha límite (en formato dd/mm/yyyy): \")\n",
        "    fecha_limite = datetime.datetime.strptime(fecha_limite, '%d/%m/%Y').date()\n",
        "    prioridad = int(input(\"Introduce la prioridad de la tarea (1-5): \"))\n",
        "    tarea = Tarea(titulo, descripcion, fecha_limite, prioridad)\n",
        "    lista_tareas.agregar_tarea(tarea)\n",
        "\n",
        "# Función para eliminar una tarea\n",
        "def eliminar_tarea():\n",
        "    titulo = input(\"Introduce el título de la tarea que quieres eliminar: \")\n",
        "    tareas = [tarea for tarea in lista_tareas.tareas if tarea.titulo == titulo]\n",
        "    if len(tareas) > 0:\n",
        "        tarea = tareas[0]\n",
        "        lista_tareas.eliminar_tarea(tarea)\n",
        "    else:\n",
        "        print(\"No se ha encontrado ninguna tarea con ese título\")\n",
        "\n",
        "# Función para mostrar todas las tareas\n",
        "def mostrar_todas_tareas():\n",
        "    lista_tareas.mostrar_tareas()\n",
        "\n",
        "# Función para mostrar las tareas ordenadas por prioridad\n",
        "def mostrar_tareas_prioridad():\n",
        "    lista_tareas.mostrar_tareas_por_prioridad()\n",
        "\n",
        "# Función para mostrar las tareas vencidas\n",
        "def mostrar_tareas_vencidas():\n",
        "    lista_tareas.mostrar_tareas_vencidas()\n",
        "\n",
        "# Función para mostrar el menú de opciones\n",
        "def mostrar_menu():\n",
        "    print(\"Menu:\")\n",
        "    print(\"1. Crear tarea\")\n",
        "    print(\"2. Eliminar tarea\")\n",
        "    print(\"3. Mostrar todas las tareas\")\n",
        "    print(\"4. Mostrar tareas ordenadas por prioridad\")\n",
        "    print(\"5. Mostrar tareas vencidas\")\n",
        "    print(\"6. Salir\")\n",
        "\n",
        "# Función para procesar la opción seleccionada por el usuario\n",
        "def procesar_opcion(opcion):\n",
        "    if opcion == \"1\":\n",
        "        crear_tarea()\n",
        "    elif opcion == \"2\":\n",
        "        eliminar_tarea()\n",
        "    elif opcion == \"3\":\n",
        "        mostrar_todas_tareas()\n",
        "    elif opcion == \"4\":\n",
        "        mostrar_tareas_prioridad()\n",
        "    elif opcion == \"5\":\n",
        "        mostrar_tareas_vencidas()\n",
        "    elif opcion == \"6\":\n",
        "        exit()\n",
        "    else:\n",
        "        print(\"Opción inválida\")\n",
        "\n",
        "# Función principal\n",
        "if __name__ == \"__main__\":\n",
        "    lista_tareas = ListaTareas()\n",
        "    while True:\n",
        "        mostrar_menu()\n",
        "        opcion = input(\"Introduce una opción: \")\n",
        "        procesar_opcion(opcion)\n"
      ]
    }
  ]
}