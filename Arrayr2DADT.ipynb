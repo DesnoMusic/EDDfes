{
  "nbformat": 4,
  "nbformat_minor": 0,
  "metadata": {
    "colab": {
      "name": "Arrayr2DADT.ipynb",
      "provenance": [],
      "collapsed_sections": [],
      "authorship_tag": "ABX9TyO/ZWzirABE7AJfCk2mxv+K",
      "include_colab_link": true
    },
    "kernelspec": {
      "name": "python3",
      "display_name": "Python 3"
    },
    "language_info": {
      "name": "python"
    }
  },
  "cells": [
    {
      "cell_type": "markdown",
      "metadata": {
        "id": "view-in-github",
        "colab_type": "text"
      },
      "source": [
        "<a href=\"https://colab.research.google.com/github/DesnoMusic/EDDfes/blob/main/Arrayr2DADT.ipynb\" target=\"_parent\"><img src=\"https://colab.research.google.com/assets/colab-badge.svg\" alt=\"Open In Colab\"/></a>"
      ]
    },
    {
      "cell_type": "code",
      "metadata": {
        "id": "6qsKnhkQoBoq"
      },
      "source": [
        "class Array2DADT:\n",
        "    def __init__( self, ren , col ):\n",
        "        self.__pollo = [ [ 0 for y in range(col) ] for x in range(ren) ]\n",
        "\n",
        "    def clear( self, dato ):\n",
        "        self.__pollo = [ [ dato for y in range(col) ] for x in range(ren) ]\n",
        "\n",
        "    def get_row_size( self ):\n",
        "        return len( self.__pollo )\n",
        "\n",
        "    def get_col_size( self ):\n",
        "        return len( self.__pollo[0] )\n",
        "\n",
        "    def set_item( self , ren , col , dato ):\n",
        "        self.__pollo[ren][col] = dato\n",
        "\n",
        "    def get_item( self , ren , col ):\n",
        "        return self.__pollo[ren][col]\n",
        "\n",
        "    def to_string( self ):\n",
        "        cadena = \"\"\n",
        "        for renglon in self.__pollo:\n",
        "            cadena = cadena +\"|\"\n",
        "            for dato in renglon:\n",
        "                cadena = cadena + str(dato) +\" | \"\n",
        "            cadena = cadena + \" \\n| \"\n",
        "        return cadena"
      ],
      "execution_count": null,
      "outputs": []
    },
    {
      "cell_type": "code",
      "metadata": {
        "colab": {
          "base_uri": "https://localhost:8080/"
        },
        "id": "Lfp3AmZvou77",
        "outputId": "f5615036-aeca-4c47-cd6b-253eb70102a1"
      },
      "source": [
        "a2d = Array2DADT( 3 , 6 )\n",
        "print(f\"Ren: { a2d.get_row_size() }\")\n",
        "print(f\"Col: { a2d.get_col_size() }\")\n",
        "print(a2d.to_string())"
      ],
      "execution_count": null,
      "outputs": [
        {
          "output_type": "stream",
          "name": "stdout",
          "text": [
            "Ren: 3\n",
            "Col: 6\n",
            "|0 | 0 | 0 | 0 | 0 | 0 |  \n",
            "| |0 | 0 | 0 | 0 | 0 | 0 |  \n",
            "| |0 | 0 | 0 | 0 | 0 | 0 |  \n",
            "| \n"
          ]
        }
      ]
    },
    {
      "cell_type": "code",
      "metadata": {
        "colab": {
          "base_uri": "https://localhost:8080/"
        },
        "id": "n_cWX55pryEJ",
        "outputId": "16063a67-8b13-41b5-fe27-40ab71b6450c"
      },
      "source": [
        "dir(list)"
      ],
      "execution_count": null,
      "outputs": [
        {
          "output_type": "execute_result",
          "data": {
            "text/plain": [
              "['__add__',\n",
              " '__class__',\n",
              " '__contains__',\n",
              " '__delattr__',\n",
              " '__delitem__',\n",
              " '__dir__',\n",
              " '__doc__',\n",
              " '__eq__',\n",
              " '__format__',\n",
              " '__ge__',\n",
              " '__getattribute__',\n",
              " '__getitem__',\n",
              " '__gt__',\n",
              " '__hash__',\n",
              " '__iadd__',\n",
              " '__imul__',\n",
              " '__init__',\n",
              " '__init_subclass__',\n",
              " '__iter__',\n",
              " '__le__',\n",
              " '__len__',\n",
              " '__lt__',\n",
              " '__mul__',\n",
              " '__ne__',\n",
              " '__new__',\n",
              " '__reduce__',\n",
              " '__reduce_ex__',\n",
              " '__repr__',\n",
              " '__reversed__',\n",
              " '__rmul__',\n",
              " '__setattr__',\n",
              " '__setitem__',\n",
              " '__sizeof__',\n",
              " '__str__',\n",
              " '__subclasshook__',\n",
              " 'append',\n",
              " 'clear',\n",
              " 'copy',\n",
              " 'count',\n",
              " 'extend',\n",
              " 'index',\n",
              " 'insert',\n",
              " 'pop',\n",
              " 'remove',\n",
              " 'reverse',\n",
              " 'sort']"
            ]
          },
          "metadata": {},
          "execution_count": 111
        }
      ]
    },
    {
      "cell_type": "code",
      "metadata": {
        "id": "0Dt65Ekp6PX9",
        "colab": {
          "base_uri": "https://localhost:8080/"
        },
        "outputId": "e29533db-c325-4619-bb08-8ef7afe6335d"
      },
      "source": [
        "!cat entrada.txt"
      ],
      "execution_count": null,
      "outputs": [
        {
          "output_type": "stream",
          "name": "stdout",
          "text": [
            "5\r\n",
            "5\r\n",
            "0,0,0,0,0\r\n",
            "0,0,1,0,0\r\n",
            "0,1,1,1,0\r\n",
            "0,0,0,0,0\r\n",
            "0,0,0,0,0\r\n",
            "10"
          ]
        }
      ]
    },
    {
      "cell_type": "code",
      "metadata": {
        "colab": {
          "base_uri": "https://localhost:8080/",
          "height": 105
        },
        "id": "f1ru0Wm-ir1r",
        "outputId": "fa3ff561-7ca5-416c-a8ef-bebc75beed82"
      },
      "source": [
        "\"\"\"\n",
        "Los datos iniciales como lo son:\n",
        "1.- Tamanio de la pobliación (ren y col)\n",
        "2.- La poblacion inicial \n",
        "3.- El numero de generaciones a sumular -\n",
        "    Estaran proporcionadas por una archivo de entrada separado por comas (CSV)\n",
        "\n",
        "    5\n",
        "    5\n",
        "    0,0,0,0,0\n",
        "    0,0,1,0,0\n",
        "    0,1,1,1,0\n",
        "    0,0,0,0,0\n",
        "    0,0,0,0,0\n",
        "    10\n",
        "\n",
        "\"\"\""
      ],
      "execution_count": null,
      "outputs": [
        {
          "output_type": "execute_result",
          "data": {
            "application/vnd.google.colaboratory.intrinsic+json": {
              "type": "string"
            },
            "text/plain": [
              "'\\nLos datos iniciales como lo son:\\n1.- Tamanio de la pobliación (ren y col)\\n2.- La poblacion inicial \\n3.- El numero de generaciones a sumular -\\n    Estaran proporcionadas por una archivo de entrada separado por comas (CSV)\\n\\n    5\\n    5\\n    0,0,0,0,0\\n    0,0,1,0,0\\n    0,1,1,1,0\\n    0,0,0,0,0\\n    0,0,0,0,0\\n    10\\n\\n'"
            ]
          },
          "metadata": {},
          "execution_count": 113
        }
      ]
    },
    {
      "cell_type": "code",
      "metadata": {
        "id": "dhiR_Kr34G-i"
      },
      "source": [
        "class JuegoDeLaVida:\n",
        "  def _init_( self , ruta_archivo ):\n",
        "    self.rens = None\n",
        "    self.cols = None\n",
        "    self.tablero = None\n",
        "    self.generaciones = None\n",
        "    self.read_game_data( ruta_archivo )\n",
        "\n",
        "  def read_game_data( self, archivo ):\n",
        "    archivo = open(archivo , 'rt')\n",
        "    lineas = archivo.readlines()\n",
        "    #print(lineas)\n",
        "    for index in range(len(lineas)):\n",
        "      lineas[index] = lineas[index].strip()\n",
        "    #print( lineas )  \n",
        "    self.rens = int( lineas[0] )\n",
        "    self.cols = int( lineas[1] )\n",
        "    self.tablero = Array2DADT(self.rens , self.cols)\n",
        "    #print(f\"{self.tablero.get_row_size()} {self.tablero.get_col_size()}\")\n",
        "    r = 0\n",
        "    c = 0\n",
        "    print( lineas )\n",
        "    for index in range(2 , 2 + self.rens , 1 ):\n",
        "      c=0\n",
        "      for dato in lineas[index].split(','):\n",
        "        self.tablero.set_item( r , c , int(dato) )\n",
        "        c += 1\n",
        "      r += 1  \n",
        "    print(self.tablero.to_string())"
      ],
      "execution_count": null,
      "outputs": []
    },
    {
      "cell_type": "code",
      "metadata": {
        "colab": {
          "base_uri": "https://localhost:8080/",
          "height": 183
        },
        "id": "VepzaAeDYNR1",
        "outputId": "dd2dc152-de22-4050-e9ae-6309732acf43"
      },
      "source": [
        "juego = JuegoDeLaVida( \"entrada.txt\" )"
      ],
      "execution_count": null,
      "outputs": [
        {
          "output_type": "error",
          "ename": "TypeError",
          "evalue": "ignored",
          "traceback": [
            "\u001b[0;31m---------------------------------------------------------------------------\u001b[0m",
            "\u001b[0;31mTypeError\u001b[0m                                 Traceback (most recent call last)",
            "\u001b[0;32m<ipython-input-124-c068380fbf9e>\u001b[0m in \u001b[0;36m<module>\u001b[0;34m()\u001b[0m\n\u001b[0;32m----> 1\u001b[0;31m \u001b[0mjuego\u001b[0m \u001b[0;34m=\u001b[0m \u001b[0mJuegoDeLaVida\u001b[0m\u001b[0;34m(\u001b[0m \u001b[0;34m\"entrada.txt\"\u001b[0m \u001b[0;34m)\u001b[0m\u001b[0;34m\u001b[0m\u001b[0;34m\u001b[0m\u001b[0m\n\u001b[0m\u001b[1;32m      2\u001b[0m \u001b[0mprint\u001b[0m\u001b[0;34m(\u001b[0m\u001b[0mJuegoDeLaVida\u001b[0m\u001b[0;34m)\u001b[0m\u001b[0;34m\u001b[0m\u001b[0;34m\u001b[0m\u001b[0m\n",
            "\u001b[0;31mTypeError\u001b[0m: JuegoDeLaVida() takes no arguments"
          ]
        }
      ]
    },
    {
      "cell_type": "code",
      "metadata": {
        "id": "HbrgBJAGm7Qj"
      },
      "source": [
        "def get_vecinos( self , r , c):\n",
        "        vecinos = []\n",
        "        for ren in range( r-1 , r+2 , 1 ):\n",
        "            for col in range(c-1 , c+2 , 1):\n",
        "                if ren < 0 or ren >= self.tablero.get_row_size() or col < 0 or col >= self.tablero.get_col_size() or (ren==r and col==c):\n",
        "                    pass\n",
        "                else:\n",
        "                    vecinos.append((ren,col))\n",
        "        return vecinos"
      ],
      "execution_count": null,
      "outputs": []
    }
  ]
}