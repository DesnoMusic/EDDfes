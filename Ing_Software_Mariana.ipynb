{
  "nbformat": 4,
  "nbformat_minor": 0,
  "metadata": {
    "colab": {
      "provenance": [],
      "authorship_tag": "ABX9TyMrKKOUlhZ5iTODxjByOB3y",
      "include_colab_link": true
    },
    "kernelspec": {
      "name": "python3",
      "display_name": "Python 3"
    },
    "language_info": {
      "name": "python"
    }
  },
  "cells": [
    {
      "cell_type": "markdown",
      "metadata": {
        "id": "view-in-github",
        "colab_type": "text"
      },
      "source": [
        "<a href=\"https://colab.research.google.com/github/DesnoMusic/EDDfes/blob/main/Ing_Software_Mariana.ipynb\" target=\"_parent\"><img src=\"https://colab.research.google.com/assets/colab-badge.svg\" alt=\"Open In Colab\"/></a>"
      ]
    },
    {
      "cell_type": "code",
      "execution_count": null,
      "metadata": {
        "colab": {
          "base_uri": "https://localhost:8080/",
          "height": 617
        },
        "id": "moloh94kOvZ3",
        "outputId": "ed5e8928-d323-446b-d6cb-f0a179a86593"
      },
      "outputs": [
        {
          "output_type": "display_data",
          "data": {
            "text/html": [
              "<html>\n",
              "<head><meta charset=\"utf-8\" /></head>\n",
              "<body>\n",
              "    <div>            <script src=\"https://cdnjs.cloudflare.com/ajax/libs/mathjax/2.7.5/MathJax.js?config=TeX-AMS-MML_SVG\"></script><script type=\"text/javascript\">if (window.MathJax && window.MathJax.Hub && window.MathJax.Hub.Config) {window.MathJax.Hub.Config({SVG: {font: \"STIX-Web\"}});}</script>                <script type=\"text/javascript\">window.PlotlyConfig = {MathJaxConfig: 'local'};</script>\n",
              "        <script src=\"https://cdn.plot.ly/plotly-2.18.2.min.js\"></script>                <div id=\"e295a8a6-2dc8-42ef-81af-049280ce64da\" class=\"plotly-graph-div\" style=\"height:600px; width:100%;\"></div>            <script type=\"text/javascript\">                                    window.PLOTLYENV=window.PLOTLYENV || {};                                    if (document.getElementById(\"e295a8a6-2dc8-42ef-81af-049280ce64da\")) {                    Plotly.newPlot(                        \"e295a8a6-2dc8-42ef-81af-049280ce64da\",                        [{\"fill\":\"toself\",\"fillcolor\":\"rgb(127, 127, 127)\",\"hoverinfo\":\"name\",\"legendgroup\":\"rgb(127, 127, 127)\",\"mode\":\"none\",\"name\":\"Ciclo 8\",\"showlegend\":false,\"x\":[\"2023-09-15\",\"2023-09-30\",\"2023-09-30\",\"2023-09-15\"],\"y\":[6.8,6.8,7.2,7.2],\"type\":\"scatter\"},{\"fill\":\"toself\",\"fillcolor\":\"rgb(140, 86, 75)\",\"hoverinfo\":\"name\",\"legendgroup\":\"rgb(140, 86, 75)\",\"mode\":\"none\",\"name\":\"Ciclo 6\",\"showlegend\":false,\"x\":[\"2023-08-15\",\"2023-08-31\",\"2023-08-31\",\"2023-08-15\"],\"y\":[4.8,4.8,5.2,5.2],\"type\":\"scatter\"},{\"fill\":\"toself\",\"fillcolor\":\"rgb(148, 103, 189)\",\"hoverinfo\":\"name\",\"legendgroup\":\"rgb(148, 103, 189)\",\"mode\":\"none\",\"name\":\"Ciclo 5\",\"showlegend\":false,\"x\":[\"2023-08-01\",\"2023-08-14\",\"2023-08-14\",\"2023-08-01\"],\"y\":[3.8,3.8,4.2,4.2],\"type\":\"scatter\"},{\"fill\":\"toself\",\"fillcolor\":\"rgb(214, 39, 40)\",\"hoverinfo\":\"name\",\"legendgroup\":\"rgb(214, 39, 40)\",\"mode\":\"none\",\"name\":\"Ciclo 4\",\"showlegend\":false,\"x\":[\"2023-07-15\",\"2023-07-30\",\"2023-07-30\",\"2023-07-15\"],\"y\":[2.8,2.8,3.2,3.2],\"type\":\"scatter\"},{\"fill\":\"toself\",\"fillcolor\":\"rgb(227, 119, 194)\",\"hoverinfo\":\"name\",\"legendgroup\":\"rgb(227, 119, 194)\",\"mode\":\"none\",\"name\":\"Ciclo 7\",\"showlegend\":false,\"x\":[\"2023-09-01\",\"2023-09-14\",\"2023-09-14\",\"2023-09-01\"],\"y\":[5.8,5.8,6.2,6.2],\"type\":\"scatter\"},{\"fill\":\"toself\",\"fillcolor\":\"rgb(255, 127, 14)\",\"hoverinfo\":\"name\",\"legendgroup\":\"rgb(255, 127, 14)\",\"mode\":\"none\",\"name\":\"Ciclo 2\",\"showlegend\":false,\"x\":[\"2023-06-15\",\"2023-06-30\",\"2023-06-30\",\"2023-06-15\"],\"y\":[0.8,0.8,1.2,1.2],\"type\":\"scatter\"},{\"fill\":\"toself\",\"fillcolor\":\"rgb(31, 119, 180)\",\"hoverinfo\":\"name\",\"legendgroup\":\"rgb(31, 119, 180)\",\"mode\":\"none\",\"name\":\"Ciclo 1\",\"showlegend\":false,\"x\":[\"2023-06-01\",\"2023-06-14\",\"2023-06-14\",\"2023-06-01\"],\"y\":[-0.2,-0.2,0.2,0.2],\"type\":\"scatter\"},{\"fill\":\"toself\",\"fillcolor\":\"rgb(44, 160, 44)\",\"hoverinfo\":\"name\",\"legendgroup\":\"rgb(44, 160, 44)\",\"mode\":\"none\",\"name\":\"Ciclo 3\",\"showlegend\":false,\"x\":[\"2023-07-01\",\"2023-07-14\",\"2023-07-14\",\"2023-07-01\"],\"y\":[1.8,1.8,2.2,2.2],\"type\":\"scatter\"},{\"legendgroup\":\"rgb(127, 127, 127)\",\"marker\":{\"color\":\"rgb(127, 127, 127)\",\"opacity\":0,\"size\":1},\"mode\":\"markers\",\"name\":\"\",\"showlegend\":false,\"text\":[null,null],\"x\":[\"2023-09-15\",\"2023-09-30\"],\"y\":[7,7],\"type\":\"scatter\"},{\"legendgroup\":\"rgb(140, 86, 75)\",\"marker\":{\"color\":\"rgb(140, 86, 75)\",\"opacity\":0,\"size\":1},\"mode\":\"markers\",\"name\":\"\",\"showlegend\":false,\"text\":[null,null],\"x\":[\"2023-08-15\",\"2023-08-31\"],\"y\":[5,5],\"type\":\"scatter\"},{\"legendgroup\":\"rgb(148, 103, 189)\",\"marker\":{\"color\":\"rgb(148, 103, 189)\",\"opacity\":0,\"size\":1},\"mode\":\"markers\",\"name\":\"\",\"showlegend\":false,\"text\":[null,null],\"x\":[\"2023-08-01\",\"2023-08-14\"],\"y\":[4,4],\"type\":\"scatter\"},{\"legendgroup\":\"rgb(214, 39, 40)\",\"marker\":{\"color\":\"rgb(214, 39, 40)\",\"opacity\":0,\"size\":1},\"mode\":\"markers\",\"name\":\"\",\"showlegend\":false,\"text\":[null,null],\"x\":[\"2023-07-15\",\"2023-07-30\"],\"y\":[3,3],\"type\":\"scatter\"},{\"legendgroup\":\"rgb(227, 119, 194)\",\"marker\":{\"color\":\"rgb(227, 119, 194)\",\"opacity\":0,\"size\":1},\"mode\":\"markers\",\"name\":\"\",\"showlegend\":false,\"text\":[null,null],\"x\":[\"2023-09-01\",\"2023-09-14\"],\"y\":[6,6],\"type\":\"scatter\"},{\"legendgroup\":\"rgb(255, 127, 14)\",\"marker\":{\"color\":\"rgb(255, 127, 14)\",\"opacity\":0,\"size\":1},\"mode\":\"markers\",\"name\":\"\",\"showlegend\":false,\"text\":[null,null],\"x\":[\"2023-06-15\",\"2023-06-30\"],\"y\":[1,1],\"type\":\"scatter\"},{\"legendgroup\":\"rgb(31, 119, 180)\",\"marker\":{\"color\":\"rgb(31, 119, 180)\",\"opacity\":0,\"size\":1},\"mode\":\"markers\",\"name\":\"\",\"showlegend\":false,\"text\":[null,null],\"x\":[\"2023-06-01\",\"2023-06-14\"],\"y\":[0,0],\"type\":\"scatter\"},{\"legendgroup\":\"rgb(44, 160, 44)\",\"marker\":{\"color\":\"rgb(44, 160, 44)\",\"opacity\":0,\"size\":1},\"mode\":\"markers\",\"name\":\"\",\"showlegend\":false,\"text\":[null,null],\"x\":[\"2023-07-01\",\"2023-07-14\"],\"y\":[2,2],\"type\":\"scatter\"}],                        {\"height\":600,\"hovermode\":\"closest\",\"showlegend\":false,\"title\":{\"text\":\"Diagrama de Gantt del proyecto\"},\"xaxis\":{\"rangeselector\":{\"buttons\":[{\"count\":7,\"label\":\"1w\",\"step\":\"day\",\"stepmode\":\"backward\"},{\"count\":1,\"label\":\"1m\",\"step\":\"month\",\"stepmode\":\"backward\"},{\"count\":6,\"label\":\"6m\",\"step\":\"month\",\"stepmode\":\"backward\"},{\"count\":1,\"label\":\"YTD\",\"step\":\"year\",\"stepmode\":\"todate\"},{\"count\":1,\"label\":\"1y\",\"step\":\"year\",\"stepmode\":\"backward\"},{\"step\":\"all\"}]},\"showgrid\":false,\"type\":\"date\",\"zeroline\":false},\"yaxis\":{\"autorange\":false,\"range\":[-1,9],\"showgrid\":false,\"ticktext\":[\"Ciclo 1\",\"Ciclo 2\",\"Ciclo 3\",\"Ciclo 4\",\"Ciclo 5\",\"Ciclo 6\",\"Ciclo 7\",\"Ciclo 8\"],\"tickvals\":[0,1,2,3,4,5,6,7],\"zeroline\":false},\"template\":{\"data\":{\"histogram2dcontour\":[{\"type\":\"histogram2dcontour\",\"colorbar\":{\"outlinewidth\":0,\"ticks\":\"\"},\"colorscale\":[[0.0,\"#0d0887\"],[0.1111111111111111,\"#46039f\"],[0.2222222222222222,\"#7201a8\"],[0.3333333333333333,\"#9c179e\"],[0.4444444444444444,\"#bd3786\"],[0.5555555555555556,\"#d8576b\"],[0.6666666666666666,\"#ed7953\"],[0.7777777777777778,\"#fb9f3a\"],[0.8888888888888888,\"#fdca26\"],[1.0,\"#f0f921\"]]}],\"choropleth\":[{\"type\":\"choropleth\",\"colorbar\":{\"outlinewidth\":0,\"ticks\":\"\"}}],\"histogram2d\":[{\"type\":\"histogram2d\",\"colorbar\":{\"outlinewidth\":0,\"ticks\":\"\"},\"colorscale\":[[0.0,\"#0d0887\"],[0.1111111111111111,\"#46039f\"],[0.2222222222222222,\"#7201a8\"],[0.3333333333333333,\"#9c179e\"],[0.4444444444444444,\"#bd3786\"],[0.5555555555555556,\"#d8576b\"],[0.6666666666666666,\"#ed7953\"],[0.7777777777777778,\"#fb9f3a\"],[0.8888888888888888,\"#fdca26\"],[1.0,\"#f0f921\"]]}],\"heatmap\":[{\"type\":\"heatmap\",\"colorbar\":{\"outlinewidth\":0,\"ticks\":\"\"},\"colorscale\":[[0.0,\"#0d0887\"],[0.1111111111111111,\"#46039f\"],[0.2222222222222222,\"#7201a8\"],[0.3333333333333333,\"#9c179e\"],[0.4444444444444444,\"#bd3786\"],[0.5555555555555556,\"#d8576b\"],[0.6666666666666666,\"#ed7953\"],[0.7777777777777778,\"#fb9f3a\"],[0.8888888888888888,\"#fdca26\"],[1.0,\"#f0f921\"]]}],\"heatmapgl\":[{\"type\":\"heatmapgl\",\"colorbar\":{\"outlinewidth\":0,\"ticks\":\"\"},\"colorscale\":[[0.0,\"#0d0887\"],[0.1111111111111111,\"#46039f\"],[0.2222222222222222,\"#7201a8\"],[0.3333333333333333,\"#9c179e\"],[0.4444444444444444,\"#bd3786\"],[0.5555555555555556,\"#d8576b\"],[0.6666666666666666,\"#ed7953\"],[0.7777777777777778,\"#fb9f3a\"],[0.8888888888888888,\"#fdca26\"],[1.0,\"#f0f921\"]]}],\"contourcarpet\":[{\"type\":\"contourcarpet\",\"colorbar\":{\"outlinewidth\":0,\"ticks\":\"\"}}],\"contour\":[{\"type\":\"contour\",\"colorbar\":{\"outlinewidth\":0,\"ticks\":\"\"},\"colorscale\":[[0.0,\"#0d0887\"],[0.1111111111111111,\"#46039f\"],[0.2222222222222222,\"#7201a8\"],[0.3333333333333333,\"#9c179e\"],[0.4444444444444444,\"#bd3786\"],[0.5555555555555556,\"#d8576b\"],[0.6666666666666666,\"#ed7953\"],[0.7777777777777778,\"#fb9f3a\"],[0.8888888888888888,\"#fdca26\"],[1.0,\"#f0f921\"]]}],\"surface\":[{\"type\":\"surface\",\"colorbar\":{\"outlinewidth\":0,\"ticks\":\"\"},\"colorscale\":[[0.0,\"#0d0887\"],[0.1111111111111111,\"#46039f\"],[0.2222222222222222,\"#7201a8\"],[0.3333333333333333,\"#9c179e\"],[0.4444444444444444,\"#bd3786\"],[0.5555555555555556,\"#d8576b\"],[0.6666666666666666,\"#ed7953\"],[0.7777777777777778,\"#fb9f3a\"],[0.8888888888888888,\"#fdca26\"],[1.0,\"#f0f921\"]]}],\"mesh3d\":[{\"type\":\"mesh3d\",\"colorbar\":{\"outlinewidth\":0,\"ticks\":\"\"}}],\"scatter\":[{\"fillpattern\":{\"fillmode\":\"overlay\",\"size\":10,\"solidity\":0.2},\"type\":\"scatter\"}],\"parcoords\":[{\"type\":\"parcoords\",\"line\":{\"colorbar\":{\"outlinewidth\":0,\"ticks\":\"\"}}}],\"scatterpolargl\":[{\"type\":\"scatterpolargl\",\"marker\":{\"colorbar\":{\"outlinewidth\":0,\"ticks\":\"\"}}}],\"bar\":[{\"error_x\":{\"color\":\"#2a3f5f\"},\"error_y\":{\"color\":\"#2a3f5f\"},\"marker\":{\"line\":{\"color\":\"#E5ECF6\",\"width\":0.5},\"pattern\":{\"fillmode\":\"overlay\",\"size\":10,\"solidity\":0.2}},\"type\":\"bar\"}],\"scattergeo\":[{\"type\":\"scattergeo\",\"marker\":{\"colorbar\":{\"outlinewidth\":0,\"ticks\":\"\"}}}],\"scatterpolar\":[{\"type\":\"scatterpolar\",\"marker\":{\"colorbar\":{\"outlinewidth\":0,\"ticks\":\"\"}}}],\"histogram\":[{\"marker\":{\"pattern\":{\"fillmode\":\"overlay\",\"size\":10,\"solidity\":0.2}},\"type\":\"histogram\"}],\"scattergl\":[{\"type\":\"scattergl\",\"marker\":{\"colorbar\":{\"outlinewidth\":0,\"ticks\":\"\"}}}],\"scatter3d\":[{\"type\":\"scatter3d\",\"line\":{\"colorbar\":{\"outlinewidth\":0,\"ticks\":\"\"}},\"marker\":{\"colorbar\":{\"outlinewidth\":0,\"ticks\":\"\"}}}],\"scattermapbox\":[{\"type\":\"scattermapbox\",\"marker\":{\"colorbar\":{\"outlinewidth\":0,\"ticks\":\"\"}}}],\"scatterternary\":[{\"type\":\"scatterternary\",\"marker\":{\"colorbar\":{\"outlinewidth\":0,\"ticks\":\"\"}}}],\"scattercarpet\":[{\"type\":\"scattercarpet\",\"marker\":{\"colorbar\":{\"outlinewidth\":0,\"ticks\":\"\"}}}],\"carpet\":[{\"aaxis\":{\"endlinecolor\":\"#2a3f5f\",\"gridcolor\":\"white\",\"linecolor\":\"white\",\"minorgridcolor\":\"white\",\"startlinecolor\":\"#2a3f5f\"},\"baxis\":{\"endlinecolor\":\"#2a3f5f\",\"gridcolor\":\"white\",\"linecolor\":\"white\",\"minorgridcolor\":\"white\",\"startlinecolor\":\"#2a3f5f\"},\"type\":\"carpet\"}],\"table\":[{\"cells\":{\"fill\":{\"color\":\"#EBF0F8\"},\"line\":{\"color\":\"white\"}},\"header\":{\"fill\":{\"color\":\"#C8D4E3\"},\"line\":{\"color\":\"white\"}},\"type\":\"table\"}],\"barpolar\":[{\"marker\":{\"line\":{\"color\":\"#E5ECF6\",\"width\":0.5},\"pattern\":{\"fillmode\":\"overlay\",\"size\":10,\"solidity\":0.2}},\"type\":\"barpolar\"}],\"pie\":[{\"automargin\":true,\"type\":\"pie\"}]},\"layout\":{\"autotypenumbers\":\"strict\",\"colorway\":[\"#636efa\",\"#EF553B\",\"#00cc96\",\"#ab63fa\",\"#FFA15A\",\"#19d3f3\",\"#FF6692\",\"#B6E880\",\"#FF97FF\",\"#FECB52\"],\"font\":{\"color\":\"#2a3f5f\"},\"hovermode\":\"closest\",\"hoverlabel\":{\"align\":\"left\"},\"paper_bgcolor\":\"white\",\"plot_bgcolor\":\"#E5ECF6\",\"polar\":{\"bgcolor\":\"#E5ECF6\",\"angularaxis\":{\"gridcolor\":\"white\",\"linecolor\":\"white\",\"ticks\":\"\"},\"radialaxis\":{\"gridcolor\":\"white\",\"linecolor\":\"white\",\"ticks\":\"\"}},\"ternary\":{\"bgcolor\":\"#E5ECF6\",\"aaxis\":{\"gridcolor\":\"white\",\"linecolor\":\"white\",\"ticks\":\"\"},\"baxis\":{\"gridcolor\":\"white\",\"linecolor\":\"white\",\"ticks\":\"\"},\"caxis\":{\"gridcolor\":\"white\",\"linecolor\":\"white\",\"ticks\":\"\"}},\"coloraxis\":{\"colorbar\":{\"outlinewidth\":0,\"ticks\":\"\"}},\"colorscale\":{\"sequential\":[[0.0,\"#0d0887\"],[0.1111111111111111,\"#46039f\"],[0.2222222222222222,\"#7201a8\"],[0.3333333333333333,\"#9c179e\"],[0.4444444444444444,\"#bd3786\"],[0.5555555555555556,\"#d8576b\"],[0.6666666666666666,\"#ed7953\"],[0.7777777777777778,\"#fb9f3a\"],[0.8888888888888888,\"#fdca26\"],[1.0,\"#f0f921\"]],\"sequentialminus\":[[0.0,\"#0d0887\"],[0.1111111111111111,\"#46039f\"],[0.2222222222222222,\"#7201a8\"],[0.3333333333333333,\"#9c179e\"],[0.4444444444444444,\"#bd3786\"],[0.5555555555555556,\"#d8576b\"],[0.6666666666666666,\"#ed7953\"],[0.7777777777777778,\"#fb9f3a\"],[0.8888888888888888,\"#fdca26\"],[1.0,\"#f0f921\"]],\"diverging\":[[0,\"#8e0152\"],[0.1,\"#c51b7d\"],[0.2,\"#de77ae\"],[0.3,\"#f1b6da\"],[0.4,\"#fde0ef\"],[0.5,\"#f7f7f7\"],[0.6,\"#e6f5d0\"],[0.7,\"#b8e186\"],[0.8,\"#7fbc41\"],[0.9,\"#4d9221\"],[1,\"#276419\"]]},\"xaxis\":{\"gridcolor\":\"white\",\"linecolor\":\"white\",\"ticks\":\"\",\"title\":{\"standoff\":15},\"zerolinecolor\":\"white\",\"automargin\":true,\"zerolinewidth\":2},\"yaxis\":{\"gridcolor\":\"white\",\"linecolor\":\"white\",\"ticks\":\"\",\"title\":{\"standoff\":15},\"zerolinecolor\":\"white\",\"automargin\":true,\"zerolinewidth\":2},\"scene\":{\"xaxis\":{\"backgroundcolor\":\"#E5ECF6\",\"gridcolor\":\"white\",\"linecolor\":\"white\",\"showbackground\":true,\"ticks\":\"\",\"zerolinecolor\":\"white\",\"gridwidth\":2},\"yaxis\":{\"backgroundcolor\":\"#E5ECF6\",\"gridcolor\":\"white\",\"linecolor\":\"white\",\"showbackground\":true,\"ticks\":\"\",\"zerolinecolor\":\"white\",\"gridwidth\":2},\"zaxis\":{\"backgroundcolor\":\"#E5ECF6\",\"gridcolor\":\"white\",\"linecolor\":\"white\",\"showbackground\":true,\"ticks\":\"\",\"zerolinecolor\":\"white\",\"gridwidth\":2}},\"shapedefaults\":{\"line\":{\"color\":\"#2a3f5f\"}},\"annotationdefaults\":{\"arrowcolor\":\"#2a3f5f\",\"arrowhead\":0,\"arrowwidth\":1},\"geo\":{\"bgcolor\":\"white\",\"landcolor\":\"#E5ECF6\",\"subunitcolor\":\"white\",\"showland\":true,\"showlakes\":true,\"lakecolor\":\"white\"},\"title\":{\"x\":0.05},\"mapbox\":{\"style\":\"light\"}}}},                        {\"responsive\": true}                    ).then(function(){\n",
              "                            \n",
              "var gd = document.getElementById('e295a8a6-2dc8-42ef-81af-049280ce64da');\n",
              "var x = new MutationObserver(function (mutations, observer) {{\n",
              "        var display = window.getComputedStyle(gd).display;\n",
              "        if (!display || display === 'none') {{\n",
              "            console.log([gd, 'removed!']);\n",
              "            Plotly.purge(gd);\n",
              "            observer.disconnect();\n",
              "        }}\n",
              "}});\n",
              "\n",
              "// Listen for the removal of the full notebook cells\n",
              "var notebookContainer = gd.closest('#notebook-container');\n",
              "if (notebookContainer) {{\n",
              "    x.observe(notebookContainer, {childList: true});\n",
              "}}\n",
              "\n",
              "// Listen for the clearing of the current output cell\n",
              "var outputEl = gd.closest('.output');\n",
              "if (outputEl) {{\n",
              "    x.observe(outputEl, {childList: true});\n",
              "}}\n",
              "\n",
              "                        })                };                            </script>        </div>\n",
              "</body>\n",
              "</html>"
            ]
          },
          "metadata": {}
        }
      ],
      "source": [
        "import plotly.figure_factory as ff\n",
        "import pandas as pd\n",
        "\n",
        "# Creamos un DataFrame con las tareas del proyecto\n",
        "df = pd.DataFrame([\n",
        "    dict(Task=\"Ciclo 1\", Start='2023-06-01', Finish='2023-06-14'),\n",
        "    dict(Task=\"Ciclo 2\", Start='2023-06-15', Finish='2023-06-30'),\n",
        "    dict(Task=\"Ciclo 3\", Start='2023-07-01', Finish='2023-07-14'),\n",
        "    dict(Task=\"Ciclo 4\", Start='2023-07-15', Finish='2023-07-30'),\n",
        "    dict(Task=\"Ciclo 5\", Start='2023-08-01', Finish='2023-08-14'),\n",
        "    dict(Task=\"Ciclo 6\", Start='2023-08-15', Finish='2023-08-31'),\n",
        "    dict(Task=\"Ciclo 7\", Start='2023-09-01', Finish='2023-09-14'),\n",
        "    dict(Task=\"Ciclo 8\", Start='2023-09-15', Finish='2023-09-30')\n",
        "])\n",
        "\n",
        "# Creamos la figura del gráfico de Gantt\n",
        "fig = ff.create_gantt(df, index_col='Task', title='Diagrama de Gantt del proyecto')\n",
        "\n",
        "# Mostramos la figura\n",
        "fig.show()\n"
      ]
    },
    {
      "cell_type": "code",
      "source": [
        "from kivy.app import App\n",
        "from kivy.uix.gridlayout import GridLayout\n",
        "from kivy.uix.label import Label\n",
        "from kivy.uix.textinput import TextInput\n",
        "from kivy.uix.button import Button\n",
        "\n",
        "class LoginScreen(GridLayout):\n",
        "    def __init__(self, **kwargs):\n",
        "        super(LoginScreen, self).__init__(**kwargs)\n",
        "        self.cols = 2\n",
        "\n",
        "        self.add_widget(Label(text='Usuario:'))\n",
        "        self.username = TextInput(multiline=False)\n",
        "        self.add_widget(self.username)\n",
        "\n",
        "        self.add_widget(Label(text='Contraseña:'))\n",
        "        self.password = TextInput(password=True, multiline=False)\n",
        "        self.add_widget(self.password)\n",
        "\n",
        "        self.submit = Button(text='Iniciar sesión')\n",
        "        self.submit.bind(on_press=self.submit_login)\n",
        "        self.add_widget(Label())\n",
        "        self.add_widget(self.submit)\n",
        "\n",
        "    def submit_login(self, instance):\n",
        "        # Aquí iría el código para verificar si las credenciales son válidas\n",
        "        print(f'Usuario: {self.username.text}, Contraseña: {self.password.text}')\n",
        "\n",
        "class MyApp(App):\n",
        "    def build(self):\n",
        "        return LoginScreen()\n",
        "\n",
        "if __name__ == '__main__':\n",
        "    MyApp().run()\n"
      ],
      "metadata": {
        "colab": {
          "base_uri": "https://localhost:8080/",
          "height": 373
        },
        "id": "r_lCT12xeHkD",
        "outputId": "499730d5-1d9e-4308-bc82-f41dcdec4bea"
      },
      "execution_count": null,
      "outputs": [
        {
          "output_type": "error",
          "ename": "ModuleNotFoundError",
          "evalue": "ignored",
          "traceback": [
            "\u001b[0;31m---------------------------------------------------------------------------\u001b[0m",
            "\u001b[0;31mModuleNotFoundError\u001b[0m                       Traceback (most recent call last)",
            "\u001b[0;32m<ipython-input-3-1817aa722fd3>\u001b[0m in \u001b[0;36m<cell line: 1>\u001b[0;34m()\u001b[0m\n\u001b[0;32m----> 1\u001b[0;31m \u001b[0;32mfrom\u001b[0m \u001b[0mkivy\u001b[0m\u001b[0;34m.\u001b[0m\u001b[0mapp\u001b[0m \u001b[0;32mimport\u001b[0m \u001b[0mApp\u001b[0m\u001b[0;34m\u001b[0m\u001b[0;34m\u001b[0m\u001b[0m\n\u001b[0m\u001b[1;32m      2\u001b[0m \u001b[0;32mfrom\u001b[0m \u001b[0mkivy\u001b[0m\u001b[0;34m.\u001b[0m\u001b[0muix\u001b[0m\u001b[0;34m.\u001b[0m\u001b[0mgridlayout\u001b[0m \u001b[0;32mimport\u001b[0m \u001b[0mGridLayout\u001b[0m\u001b[0;34m\u001b[0m\u001b[0;34m\u001b[0m\u001b[0m\n\u001b[1;32m      3\u001b[0m \u001b[0;32mfrom\u001b[0m \u001b[0mkivy\u001b[0m\u001b[0;34m.\u001b[0m\u001b[0muix\u001b[0m\u001b[0;34m.\u001b[0m\u001b[0mlabel\u001b[0m \u001b[0;32mimport\u001b[0m \u001b[0mLabel\u001b[0m\u001b[0;34m\u001b[0m\u001b[0;34m\u001b[0m\u001b[0m\n\u001b[1;32m      4\u001b[0m \u001b[0;32mfrom\u001b[0m \u001b[0mkivy\u001b[0m\u001b[0;34m.\u001b[0m\u001b[0muix\u001b[0m\u001b[0;34m.\u001b[0m\u001b[0mtextinput\u001b[0m \u001b[0;32mimport\u001b[0m \u001b[0mTextInput\u001b[0m\u001b[0;34m\u001b[0m\u001b[0;34m\u001b[0m\u001b[0m\n\u001b[1;32m      5\u001b[0m \u001b[0;32mfrom\u001b[0m \u001b[0mkivy\u001b[0m\u001b[0;34m.\u001b[0m\u001b[0muix\u001b[0m\u001b[0;34m.\u001b[0m\u001b[0mbutton\u001b[0m \u001b[0;32mimport\u001b[0m \u001b[0mButton\u001b[0m\u001b[0;34m\u001b[0m\u001b[0;34m\u001b[0m\u001b[0m\n",
            "\u001b[0;31mModuleNotFoundError\u001b[0m: No module named 'kivy'",
            "",
            "\u001b[0;31m---------------------------------------------------------------------------\u001b[0;32m\nNOTE: If your import is failing due to a missing package, you can\nmanually install dependencies using either !pip or !apt.\n\nTo view examples of installing some common dependencies, click the\n\"Open Examples\" button below.\n\u001b[0;31m---------------------------------------------------------------------------\u001b[0m\n"
          ],
          "errorDetails": {
            "actions": [
              {
                "action": "open_url",
                "actionText": "Open Examples",
                "url": "/notebooks/snippets/importing_libraries.ipynb"
              }
            ]
          }
        }
      ]
    },
    {
      "cell_type": "code",
      "source": [
        "import 'package:flutter/material.dart';\n",
        "import 'package:flutter_local_notifications/flutter_local_notifications.dart';\n",
        "import 'package:intl/intl.dart';\n",
        "\n",
        "class Task {\n",
        "  final String title;\n",
        "  final String description;\n",
        "  final DateTime deadline;\n",
        "  bool notify;\n",
        "\n",
        "  Task({this.title, this.description, this.deadline, this.notify = false});\n",
        "}\n",
        "\n",
        "class TaskList extends StatefulWidget {\n",
        "  @override\n",
        "  _TaskListState createState() => _TaskListState();\n",
        "}\n",
        "\n",
        "class _TaskListState extends State<TaskList> {\n",
        "  FlutterLocalNotificationsPlugin notifications;\n",
        "\n",
        "  List<Task> tasks = [\n",
        "    Task(\n",
        "      title: 'Completar tarea de matemáticas',\n",
        "      description: 'Resolver los problemas del capítulo 5',\n",
        "      deadline: DateTime.now().add(Duration(days: 5)),\n",
        "    ),\n",
        "    Task(\n",
        "      title: 'Enviar el informe trimestral',\n",
        "      description: 'Preparar el informe de las ventas del último trimestre',\n",
        "      deadline: DateTime.now().add(Duration(days: 10)),\n",
        "      notify: true,\n",
        "    ),\n",
        "  ];\n",
        "\n",
        "  @override\n",
        "  void initState() {\n",
        "    super.initState();\n",
        "\n",
        "    notifications = FlutterLocalNotificationsPlugin();\n",
        "    var androidSettings = AndroidInitializationSettings('app_icon');\n",
        "    var iosSettings = IOSInitializationSettings();\n",
        "    var settings = InitializationSettings(android: androidSettings, iOS: iosSettings);\n",
        "    notifications.initialize(settings);\n",
        "\n",
        "    _configureNotifications();\n",
        "  }\n",
        "\n",
        "  void _configureNotifications() {\n",
        "    var androidSettings = AndroidNotificationDetails(\n",
        "      'task_notifications',\n",
        "      'Task Notifications',\n",
        "      'Notifications for upcoming task deadlines',\n",
        "      importance: Importance.high,\n",
        "      priority: Priority.high,\n",
        "      ticker: 'Task Deadline',\n",
        "      playSound: true,\n",
        "    );\n",
        "    var iosSettings = IOSNotificationDetails();\n",
        "    var platformSettings = NotificationDetails(android: androidSettings, iOS: iosSettings);\n",
        "\n",
        "    notifications.initialize(InitializationSettings(android: androidSettings, iOS: iosSettings));\n",
        "    notifications.requestPermissions();\n",
        "\n",
        "    notifications.initialize(InitializationSettings(android: androidSettings, iOS: iosSettings));\n",
        "    notifications.onDidReceiveLocalNotification.listen((notification) {\n",
        "      showDialog(\n",
        "        context: context,\n",
        "        builder: (BuildContext context) => AlertDialog(\n",
        "          title: Text('Task Deadline'),\n",
        "          content: Text('La tarea \"${notification.payload}\" está próxima a su fecha límite.'),\n",
        "          actions: [\n",
        "            FlatButton(\n",
        "              child: Text('Ok'),\n",
        "              onPressed: () => Navigator.of(context).pop(),\n",
        "            ),\n",
        "          ],\n",
        "        ),\n",
        "      );\n",
        "    });\n",
        "  }\n",
        "\n",
        "  void _toggleNotifications(Task task) async {\n",
        "    setState(() {\n",
        "      task.notify = !task.notify;\n",
        "    });\n",
        "\n",
        "    if (task.notify) {\n",
        "      var androidDetails = AndroidNotificationDetails(\n",
        "        'task_notifications',\n",
        "        'Task Notifications',\n",
        "        'Notifications for upcoming task deadlines',\n",
        "        importance: Importance.high,\n",
        "        priority: Priority.high,\n",
        "        ticker: 'Task Deadline',\n",
        "        playSound: true,\n",
        "      );\n",
        "      var iosDetails = IOSNotificationDetails();\n",
        "      var platformDetails = NotificationDetails(android: androidDetails, iOS: iosDetails);\n",
        "\n",
        "      var formattedDate = DateFormat('yyyy-MM-dd – kk:mm').format(task.deadline);\n",
        "      await notifications.schedule(\n",
        "        task.title.hashCode,\n",
        "        'Fecha límite para la tarea \"${task.title}\"',\n",
        "        'La fecha límite para la tarea\n"
      ],
      "metadata": {
        "colab": {
          "base_uri": "https://localhost:8080/",
          "height": 130
        },
        "id": "AiYrYyWaEtkK",
        "outputId": "fb22ae3b-eb66-4352-8e64-f350eb22c632"
      },
      "execution_count": null,
      "outputs": [
        {
          "output_type": "error",
          "ename": "SyntaxError",
          "evalue": "ignored",
          "traceback": [
            "\u001b[0;36m  File \u001b[0;32m\"<ipython-input-1-e42730c1f059>\"\u001b[0;36m, line \u001b[0;32m105\u001b[0m\n\u001b[0;31m    'La fecha límite para la tarea\u001b[0m\n\u001b[0m    ^\u001b[0m\n\u001b[0;31mSyntaxError\u001b[0m\u001b[0;31m:\u001b[0m unterminated string literal (detected at line 105)\n"
          ]
        }
      ]
    },
    {
      "cell_type": "code",
      "source": [
        "import csv\n",
        "# Función que exporta una lista de tareas a un archivo CSV\n",
        "def export_tasks_to_csv(task_list, file_name):\n",
        "    with open(file_name, 'w', newline='') as csvfile:\n",
        "        fieldnames = ['ID', 'Nombre', 'Descripción', 'Fecha límite', 'Estado']\n",
        "        writer = csv.DictWriter(csvfile, fieldnames=fieldnames)\n",
        "        writer.writeheader()\n",
        "        for task in task_list:\n",
        "            writer.writerow({'ID': task['id'], 'Nombre': task['name'], 'Descripción': task['description'], 'Fecha límite': task['due_date'], 'Estado': task['status']})\n",
        "\n",
        "# Función que exporta una lista de listas de tareas a un archivo CSV\n",
        "def export_task_lists_to_csv(task_lists, file_name):\n",
        "    with open(file_name, 'w', newline='') as csvfile:\n",
        "        fieldnames = ['Nombre', 'Descripción']\n",
        "        for i in range(len(task_lists)):\n",
        "            fieldnames.append('Lista {}'.format(i+1))\n",
        "        writer = csv.DictWriter(csvfile, fieldnames=fieldnames)\n",
        "        writer.writeheader()\n",
        "        for i in range(len(task_lists[0])):\n",
        "            row = {'Nombre': '', 'Descripción': ''}\n",
        "            for j in range(len(task_lists)):\n",
        "                row['Lista {}'.format(j+1)] = task_lists[j][i]['name']\n",
        "            writer.writerow(row)\n"
      ],
      "metadata": {
        "id": "PQDUumshGfGD"
      },
      "execution_count": null,
      "outputs": []
    }
  ]
}