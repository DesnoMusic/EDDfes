{
  "nbformat": 4,
  "nbformat_minor": 0,
  "metadata": {
    "colab": {
      "provenance": [],
      "authorship_tag": "ABX9TyPs2PtcuEYkjjf6H/pZr+hz",
      "include_colab_link": true
    },
    "kernelspec": {
      "name": "python3",
      "display_name": "Python 3"
    },
    "language_info": {
      "name": "python"
    }
  },
  "cells": [
    {
      "cell_type": "markdown",
      "metadata": {
        "id": "view-in-github",
        "colab_type": "text"
      },
      "source": [
        "<a href=\"https://colab.research.google.com/github/DesnoMusic/EDDfes/blob/main/Pfinal_Segu_Info.ipynb\" target=\"_parent\"><img src=\"https://colab.research.google.com/assets/colab-badge.svg\" alt=\"Open In Colab\"/></a>"
      ]
    },
    {
      "cell_type": "code",
      "execution_count": null,
      "metadata": {
        "colab": {
          "base_uri": "https://localhost:8080/"
        },
        "id": "kglCRvCHSs_a",
        "outputId": "f910e3e7-e298-41a2-b1d5-b7b2579b6f30"
      },
      "outputs": [
        {
          "output_type": "stream",
          "name": "stdout",
          "text": [
            "¿Desea cifrar o descifrar? (c/d): c\n",
            "Ingrese el texto: HOLA, ME GUSTAN LOS CAMELLOS\n",
            "Ingrese la clave: 3\n",
            "Texto cifrado: TAXM, YQ SGEFMZ XAE OMYQXXAE\n"
          ]
        }
      ],
      "source": [
        "def cifrado_vigenere(texto, clave, cifrar=True):\n",
        "    resultado = \"\"\n",
        "    clave_extendida = clave * (len(texto) // len(clave)) + clave[:len(texto) % len(clave)]\n",
        "\n",
        "    for i in range(len(texto)):\n",
        "        char_texto = texto[i]\n",
        "        char_clave = clave_extendida[i]\n",
        "\n",
        "        if char_texto.isalpha():\n",
        "            offset = ord('A') if char_texto.isupper() else ord('a')\n",
        "            operacion = 1 if cifrar else -1\n",
        "            resultado += chr((ord(char_texto) - offset + operacion * (ord(char_clave) - offset)) % 26 + offset)\n",
        "        else:\n",
        "            resultado += char_texto\n",
        "\n",
        "    return resultado\n",
        "\n",
        "def main():\n",
        "    modo = input(\"¿Desea cifrar o descifrar? (c/d): \").lower()\n",
        "    texto = input(\"Ingrese el texto: \").upper()\n",
        "    clave = input(\"Ingrese la clave: \").upper()\n",
        "\n",
        "    if modo == 'c':\n",
        "        resultado = cifrado_vigenere(texto, clave)\n",
        "        print(f\"Texto cifrado: {resultado}\")\n",
        "    elif modo == 'd':\n",
        "        resultado = cifrado_vigenere(texto, clave, cifrar=False)\n",
        "        print(f\"Texto descifrado: {resultado}\")\n",
        "    else:\n",
        "        print(\"Por favor, ingrese 'c' para cifrar o 'd' para descifrar.\")\n",
        "\n",
        "if __name__ == \"__main__\":\n",
        "    main()\n"
      ]
    },
    {
      "cell_type": "code",
      "source": [
        "def cifrado_cesar(texto, clave, cifrar=True):\n",
        "    resultado = \"\"\n",
        "    for char in texto:\n",
        "        if char.isalpha():\n",
        "            offset = ord('A') if char.isupper() else ord('a')\n",
        "            operacion = 1 if cifrar else -1\n",
        "            resultado += chr((ord(char) - offset + operacion * clave) % 26 + offset)\n",
        "        else:\n",
        "            resultado += char\n",
        "\n",
        "    return resultado\n",
        "\n",
        "def main():\n",
        "    modo = input(\"¿Desea cifrar o descifrar? (c/d): \").lower()\n",
        "    texto = input(\"Ingrese el texto: \")\n",
        "    try:\n",
        "        clave = int(input(\"Ingrese la clave (número entero): \"))\n",
        "    except ValueError:\n",
        "        print(\"Por favor, ingrese un número entero como clave.\")\n",
        "        return\n",
        "\n",
        "    if modo == 'c':\n",
        "        resultado = cifrado_cesar(texto, clave)\n",
        "        print(f\"Texto cifrado: {resultado}\")\n",
        "    elif modo == 'd':\n",
        "        resultado = cifrado_cesar(texto, clave, cifrar=False)\n",
        "        print(f\"Texto descifrado: {resultado}\")\n",
        "    else:\n",
        "        print(\"Por favor, ingrese 'c' para cifrar o 'd' para descifrar.\")\n",
        "\n",
        "if __name__ == \"__main__\":\n",
        "    main()\n"
      ],
      "metadata": {
        "colab": {
          "base_uri": "https://localhost:8080/"
        },
        "id": "Ua48c0uij3W3",
        "outputId": "0875e826-d7c5-470f-b7ea-0a66f7820a7f"
      },
      "execution_count": null,
      "outputs": [
        {
          "output_type": "stream",
          "name": "stdout",
          "text": [
            "¿Desea cifrar o descifrar? (c/d): d\n",
            "Ingrese el texto: qi kywxe gsqiv tspps jvmxs\n",
            "Ingrese la clave (número entero): 4\n",
            "Texto descifrado: me gusta comer pollo frito\n"
          ]
        }
      ]
    },
    {
      "cell_type": "code",
      "source": [
        "def encriptar(texto, clave):\n",
        "    texto = texto.replace(\" \", \"\")  # Eliminar espacios en blanco\n",
        "    columnas = len(clave)\n",
        "    filas = -(-len(texto) // columnas)  # Redondeo hacia arriba para asegurar suficientes filas\n",
        "    cuadricula = [''] * filas\n",
        "    # Llenar la cuadrícula por columnas\n",
        "    for col in range(columnas):\n",
        "        indice = col\n",
        "        for fila in range(filas):\n",
        "            if indice < len(texto):\n",
        "                cuadricula[fila] += texto[indice]\n",
        "                indice += columnas\n",
        "    # Concatenar filas para obtener el texto encriptado\n",
        "    texto_encriptado = ''.join(cuadricula)\n",
        "    return texto_encriptado\n",
        "def desencriptar(texto, clave):\n",
        "    columnas = len(clave)\n",
        "    filas = -(-len(texto) // columnas)\n",
        "    tamanio_cuadricula = filas * columnas\n",
        "    # Calcular el número de celdas vacías en la cuadrícula\n",
        "    celdas_vacias = tamanio_cuadricula - len(texto)\n",
        "    # Calcular el número de filas y columnas con celdas vacías\n",
        "    filas_vacias = celdas_vacias // columnas\n",
        "    columnas_vacias = celdas_vacias % columnas\n",
        "    # Inicializar la cuadrícula con celdas vacías\n",
        "    cuadricula = [''] * filas\n",
        "    col_actual = 0\n",
        "\n",
        "    for col in range(columnas):\n",
        "        fila_actual = 0\n",
        "        for fila in range(filas):\n",
        "            if fila < filas_vacias or (fila == filas_vacias and col < columnas_vacias):\n",
        "                cuadricula[fila] += ' '\n",
        "            else:\n",
        "                cuadricula[fila] += texto[col_actual]\n",
        "                col_actual += 1\n",
        "    # Construir el texto desencriptado leyendo por filas\n",
        "    texto_desencriptado = ''.join(cuadricula)\n",
        "    return texto_desencriptado.replace(\" \", \"\")\n",
        "def main():\n",
        "    texto = input(\"Ingrese el texto: \")\n",
        "    clave = input(\"Ingrese la clave: \")\n",
        "\n",
        "    texto_encriptado = encriptar(texto, clave)\n",
        "    print(\"Texto encriptado:\", texto_encriptado)\n",
        "\n",
        "    texto_desencriptado = desencriptar(texto_encriptado, clave)\n",
        "    print(\"Texto desencriptado:\", texto_desencriptado)\n",
        "\n",
        "\n",
        "if __name__ == \"__main__\":\n",
        "    main()"
      ],
      "metadata": {
        "colab": {
          "base_uri": "https://localhost:8080/"
        },
        "id": "IXHzV85hnGSZ",
        "outputId": "49cfab47-04ca-4403-eb9c-3bb3ae25c432"
      },
      "execution_count": 40,
      "outputs": [
        {
          "output_type": "stream",
          "name": "stdout",
          "text": [
            "Ingrese el texto: hasomslei\n",
            "Ingrese la clave: 241\n",
            "Texto encriptado: hasomslei\n",
            "Texto desencriptado: holamessi\n"
          ]
        }
      ]
    }
  ]
}