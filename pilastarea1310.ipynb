{
  "nbformat": 4,
  "nbformat_minor": 0,
  "metadata": {
    "colab": {
      "name": "pilastarea1310.ipynb",
      "provenance": [],
      "collapsed_sections": [],
      "authorship_tag": "ABX9TyPh6iuuc1s6IQM6jZ+2KBcz",
      "include_colab_link": true
    },
    "kernelspec": {
      "name": "python3",
      "display_name": "Python 3"
    },
    "language_info": {
      "name": "python"
    }
  },
  "cells": [
    {
      "cell_type": "markdown",
      "metadata": {
        "id": "view-in-github",
        "colab_type": "text"
      },
      "source": [
        "<a href=\"https://colab.research.google.com/github/DesnoMusic/EDDfes/blob/main/pilastarea1310.ipynb\" target=\"_parent\"><img src=\"https://colab.research.google.com/assets/colab-badge.svg\" alt=\"Open In Colab\"/></a>"
      ]
    },
    {
      "cell_type": "code",
      "metadata": {
        "id": "Ko0M-JNxNEZT"
      },
      "source": [
        "class StackADT:\n",
        "    def __init__(self):\n",
        "      self.__data = list()\n",
        "#regresa si la pila esta vacia\n",
        "    def is_empty(self):\n",
        "        return len( self.__data) == 0\n",
        "    def get_length(self):\n",
        "        return len(self.__data)\n",
        "\n",
        "    def pop(self):\n",
        "        if self.is_empty():\n",
        "          print(\"Fila vacia no se puede sacar nada\")\n",
        "        else:\n",
        "            return self.__data.pop()\n",
        "\n",
        "\n",
        "    def peek(self):\n",
        "        if self.is_empty():\n",
        "          print(\"Fila vacia no se puede sacar nada\")\n",
        "        else:\n",
        "          return self.__data[-1]\n",
        "\n",
        "    def push(self, value ):\n",
        "        self.__data.append(value  )\n",
        "\n",
        "    def to_string(self  ):\n",
        "        for item in self.__data[::-1]:\n",
        "            print(f\"| {item} |\")"
      ],
      "execution_count": 6,
      "outputs": []
    },
    {
      "cell_type": "code",
      "metadata": {
        "colab": {
          "base_uri": "https://localhost:8080/"
        },
        "id": "ztUYJFOLQh1J",
        "outputId": "26e26041-582e-4bf8-c9fd-ac4acf212fe1"
      },
      "source": [
        "pila = StackADT()\n",
        "print(\"Esta vacia? =\", pila.is_empty()  )\n",
        "print(\"# elementos:\", pila.get_length() )\n",
        "pila.push(10)\n",
        "print(\"Esta vacia? =\", pila.is_empty()  )\n",
        "print(\"# elementos:\", pila.get_length() )\n",
        "pila.push(20)\n",
        "pila.push(30)\n",
        "pila.push(40)\n",
        "pila.to_string()\n",
        "print(pila.pop())\n",
        "print(pila.peek())\n",
        "pila.to_string()"
      ],
      "execution_count": 7,
      "outputs": [
        {
          "output_type": "stream",
          "name": "stdout",
          "text": [
            "Esta vacia? = True\n",
            "# elementos: 0\n",
            "Esta vacia? = False\n",
            "# elementos: 1\n",
            "| 40 |\n",
            "| 30 |\n",
            "| 20 |\n",
            "| 10 |\n",
            "40\n",
            "30\n",
            "| 30 |\n",
            "| 20 |\n",
            "| 10 |\n"
          ]
        }
      ]
    },
    {
      "cell_type": "code",
      "metadata": {
        "colab": {
          "base_uri": "https://localhost:8080/"
        },
        "id": "1udflcgNqhAZ",
        "outputId": "7cb628eb-6d00-456f-e7e8-fa0ee7740040"
      },
      "source": [
        "!cat prog.txt"
      ],
      "execution_count": 8,
      "outputs": [
        {
          "output_type": "stream",
          "name": "stdout",
          "text": [
            "cat: prog.txt: No such file or directory\n"
          ]
        }
      ]
    },
    {
      "cell_type": "code",
      "metadata": {
        "id": "GoS7pAr0z4SZ"
      },
      "source": [
        "entrada = open ('prog.txt', 'rt')\n",
        "codigo = entrada.read()\n",
        "\n",
        "pilaControl = StackADT()\n",
        "pilaControl.push('#') #caracter de pila vacia\n",
        "\n",
        "for letra in codigo:\n",
        "  #print(f\"-->{letra} <--\"\")\n",
        "  if letra == '{':\n",
        "    pilaControl.push(\"{\")\n",
        "  elif letra == '}':\n",
        "    basura = pilaControl.pop()\n",
        "  else: \n",
        "    pass\n",
        "\n",
        "\n",
        "#NOTA: Este codigo aun no contempla desbalanceo\n",
        "\n",
        "if pilaControl.peek() == '#':\n",
        "  print(\"El codigo proporcianado esta correctamente balanceado\")\n",
        "else: \n",
        "  print(\"El codigo no esta balanceado en llaves {} de manera correcta\")"
      ],
      "execution_count": null,
      "outputs": []
    },
    {
      "cell_type": "code",
      "metadata": {
        "id": "I-9k-cqoU22Z"
      },
      "source": [
        "class balanceo_llaves:\n",
        "    def __init__ ( self , ruta_archivo ):\n",
        "        self.read_data( ruta_archivo )\n",
        "    \n",
        "    def read_data( self , entrada ):\n",
        "        self.entrada = open( nombre , 'rt')\n",
        "        self.codigo = self.entrada.read()\n",
        "\n",
        "    def revisar_codigo( self ):\n",
        "        \n",
        "        self.pilaControl = StackADT()\n",
        "        self.pilaControl.push(\"#\") #caracter de pila vacia\n",
        "\n",
        "        for letra in self.codigo:\n",
        "            \n",
        "            if self.pilaControl.get_length() != 0:\n",
        "\n",
        "                if letra == '{': \n",
        "                    self.pilaControl.push('{')\n",
        "                elif letra == '(': \n",
        "                    self.pilaControl.push('(')\n",
        "                elif letra == '}': \n",
        "                    self.pilaControl.pop()\n",
        "                elif letra == ')': \n",
        "                    self.pilaControl.pop()\n",
        "                else:\n",
        "                    pass\n",
        "\n",
        "            else:\n",
        "                break\n",
        "            \n",
        "        if self.pilaControl.peek() == '#':\n",
        "            print(\"\\nEl codigo proporcionado está correctamente balanceado.\\n\")\n",
        "        else:\n",
        "            print(\"\\nEl codigo no esta balanceado en llaves o parentesis\\n\")"
      ],
      "execution_count": 10,
      "outputs": []
    },
    {
      "cell_type": "code",
      "metadata": {
        "id": "9aSthCl2U5oD"
      },
      "source": [
        "nombre = input(\"Introduce el nombre del archivo para usar el programa:      \")\n",
        "ejemplo = balanceo_llaves( nombre )\n",
        "ejemplo.revisar_codigo()"
      ],
      "execution_count": null,
      "outputs": []
    },
    {
      "cell_type": "code",
      "metadata": {
        "id": "pVIjuTbMU7j_"
      },
      "source": [
        "!cat prog.txt"
      ],
      "execution_count": null,
      "outputs": []
    }
  ]
}