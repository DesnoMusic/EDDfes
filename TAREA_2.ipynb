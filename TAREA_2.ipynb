{
  "nbformat": 4,
  "nbformat_minor": 0,
  "metadata": {
    "colab": {
      "name": "TAREA 2.ipynb",
      "provenance": [],
      "collapsed_sections": []
    },
    "kernelspec": {
      "name": "python3",
      "display_name": "Python 3"
    },
    "language_info": {
      "name": "python"
    }
  },
  "cells": [
    {
      "cell_type": "code",
      "metadata": {
        "colab": {
          "base_uri": "https://localhost:8080/"
        },
        "id": "DFxCGXeavBc1",
        "outputId": "54046c30-8011-40bb-87e4-b6a3fcb17ee4"
      },
      "source": [
        "def fib(n):\n",
        "    a, b = 0,1\n",
        "    while a < n:\n",
        "        print(a, end=' ')\n",
        "        a, b = b, a+b\n",
        "    print()\n",
        "fib(1000)"
      ],
      "execution_count": null,
      "outputs": [
        {
          "output_type": "stream",
          "name": "stdout",
          "text": [
            "0 1 1 2 3 5 8 13 21 34 55 89 144 233 377 610 987 \n"
          ]
        }
      ]
    },
    {
      "cell_type": "code",
      "metadata": {
        "colab": {
          "base_uri": "https://localhost:8080/"
        },
        "id": "V22Oa1DTvJ6V",
        "outputId": "e603c54a-35b8-41b7-965e-477a6e6022be"
      },
      "source": [
        "x = range(10)\n",
        ">>> x\n",
        "range(0, 10)\n",
        ">>> list(x)\n",
        "[0, 1, 2, 3, 4, 5, 6, 7, 8, 9]\n",
        ">>> range(7)\n",
        "range(0, 7)\n",
        ">>> list(range(7))\n",
        "[0, 1, 2, 3, 4, 5, 6]"
      ],
      "execution_count": null,
      "outputs": [
        {
          "output_type": "execute_result",
          "data": {
            "text/plain": [
              "[0, 1, 2, 3, 4, 5, 6]"
            ]
          },
          "metadata": {},
          "execution_count": 2
        }
      ]
    },
    {
      "cell_type": "code",
      "metadata": {
        "colab": {
          "base_uri": "https://localhost:8080/"
        },
        "id": "-47N3di2yLc0",
        "outputId": "e6cf88f9-8c21-43cb-bdc1-fc803680e404"
      },
      "source": [
        "num=10\n",
        "for i in range(1,num+1):\n",
        "     print(\"     \",num-i)\n",
        "print(\"BOOOOMMMM BOOOOOOOOOOOOOOOOOOOOOOOOOOOOOOOOMMMMMMMMMMMMMMMMMMMMMMMMMMMMMMMMMMMMMMM xd\")\n",
        "#un poco de humor"
      ],
      "execution_count": null,
      "outputs": [
        {
          "output_type": "stream",
          "name": "stdout",
          "text": [
            "      9\n",
            "      8\n",
            "      7\n",
            "      6\n",
            "      5\n",
            "      4\n",
            "      3\n",
            "      2\n",
            "      1\n",
            "      0\n",
            "BOOOOMMMM BOOOOOOOOOOOOOOOOOOOOOOOOOOOOOOOOMMMMMMMMMMMMMMMMMMMMMMMMMMMMMMMMMMMMMMM xd\n"
          ]
        }
      ]
    },
    {
      "cell_type": "code",
      "metadata": {
        "colab": {
          "base_uri": "https://localhost:8080/",
          "height": 129
        },
        "id": "ccAdlbWvyaBJ",
        "outputId": "3b3b2f01-3379-406b-cfea-ef5edebb7965"
      },
      "source": [
        "x = list\n",
        "list = [\"peras\", \"manzanas\", \"naranjas\", \"bananas\"]\n",
        "    >>> list[-1] = \"manzanas\"\n",
        "['peras', 'manzanas', 'naranjas', 'bananas']\n",
        "    print( list )"
      ],
      "execution_count": null,
      "outputs": [
        {
          "output_type": "error",
          "ename": "IndentationError",
          "evalue": "ignored",
          "traceback": [
            "\u001b[0;36m  File \u001b[0;32m\"<ipython-input-30-793eca639137>\"\u001b[0;36m, line \u001b[0;32m3\u001b[0m\n\u001b[0;31m    >>> list[-1] = \"manzanas\"\u001b[0m\n\u001b[0m    ^\u001b[0m\n\u001b[0;31mIndentationError\u001b[0m\u001b[0;31m:\u001b[0m unexpected indent\n"
          ]
        }
      ]
    },
    {
      "cell_type": "code",
      "metadata": {
        "id": "1jtuvfVpzKyi"
      },
      "source": [
        ""
      ],
      "execution_count": null,
      "outputs": []
    }
  ]
}