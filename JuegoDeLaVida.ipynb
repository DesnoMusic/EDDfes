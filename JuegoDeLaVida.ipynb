{
  "nbformat": 4,
  "nbformat_minor": 0,
  "metadata": {
    "colab": {
      "name": "JuegoDeLaVida.ipynb",
      "provenance": [],
      "authorship_tag": "ABX9TyPx9JttIpxioF9CJI0xJbcn",
      "include_colab_link": true
    },
    "kernelspec": {
      "name": "python3",
      "display_name": "Python 3"
    },
    "language_info": {
      "name": "python"
    }
  },
  "cells": [
    {
      "cell_type": "markdown",
      "metadata": {
        "id": "view-in-github",
        "colab_type": "text"
      },
      "source": [
        "<a href=\"https://colab.research.google.com/github/DesnoMusic/EDDfes/blob/main/JuegoDeLaVida.ipynb\" target=\"_parent\"><img src=\"https://colab.research.google.com/assets/colab-badge.svg\" alt=\"Open In Colab\"/></a>"
      ]
    },
    {
      "cell_type": "markdown",
      "metadata": {
        "id": "sYmim9OSdoRD"
      },
      "source": [
        "######JUEGO DE LA VIDA\n",
        "\n",
        "Materia: Estructura De Datos\n",
        "\n",
        "Alumno: Fernando Emmanuell Ramirez Fuentes\n",
        "\n",
        "Grupo: 1310\n"
      ]
    },
    {
      "cell_type": "code",
      "metadata": {
        "id": "gSDh0uu7c-Fa"
      },
      "source": [
        "class Array2DADT:\n",
        "        def __init__( self , ren , col ):\n",
        "            self.__data = [ [ 0 for y in range(col) ] for x in range(ren) ]\n",
        "            \n",
        "        def clear( self, dato ):\n",
        "            self.__data = [ [ dato for y in range(self.get_col_size()) ] for x in range(self.get_row_size()) ]\n",
        "\n",
        "        def get_row_size( self ):\n",
        "            return len( self.__data)\n",
        "\n",
        "        def get_col_size( self ):\n",
        "            return len( self.__data[0] )\n",
        "\n",
        "        def set_item( self, ren, col, dato ):\n",
        "            self.__data[ren][col] = dato\n",
        "\n",
        "        def get_item( self, ren, col ):\n",
        "            return self.__data[ren][col]\n",
        "\n",
        "        def to_string( self ):\n",
        "            cadena = \"\"\n",
        "            for renglon in self.__data:\n",
        "                cadena = cadena + \"|\"\n",
        "                for dato in renglon:\n",
        "                    cadena = cadena + str (dato) + \" | \"\n",
        "                cadena = cadena + \"\\n\"\n",
        "            return cadena"
      ],
      "execution_count": 18,
      "outputs": []
    },
    {
      "cell_type": "code",
      "metadata": {
        "colab": {
          "base_uri": "https://localhost:8080/",
          "height": 87
        },
        "id": "-kdB97GednbS",
        "outputId": "123a238a-e00a-4a59-d753-2514bb69d9bc"
      },
      "source": [
        "\"\"\"\n",
        "    datos del archivo entrada1.txt:\n",
        "\n",
        "    6\n",
        "    7\n",
        "    0,0,0,0,0,0\n",
        "    0,0,1,0,0,0\n",
        "    0,1,1,1,0,0\n",
        "    0,0,0,0,0,0\n",
        "    0,0,0,0,0,0\n",
        "    1,0,1,0,0,0\n",
        "    0,0,0,0,0,0 \n",
        "    11\n",
        "    \n",
        "\n",
        "\n",
        "    Datos del archivo entrada2.txt\n",
        "\n",
        "    6\n",
        "    7\n",
        "    0,0,0,0,0,0\n",
        "    0,0,1,0,0,0\n",
        "    0,1,1,1,0,0\n",
        "    0,0,0,0,0,0\n",
        "    0,0,0,0,0,0\n",
        "    1,0,1,0,0,0\n",
        "    0,0,1,1,1,0 \n",
        "    11\n",
        "\"\"\""
      ],
      "execution_count": 19,
      "outputs": [
        {
          "output_type": "execute_result",
          "data": {
            "application/vnd.google.colaboratory.intrinsic+json": {
              "type": "string"
            },
            "text/plain": [
              "'\\n    datos del archivo entrada1.txt:\\n\\n    6\\n    7\\n    0,0,0,0,0,0\\n    0,0,1,0,0,0\\n    0,1,1,1,0,0\\n    0,0,0,0,0,0\\n    0,0,0,0,0,0\\n    1,0,1,0,0,0\\n    0,0,0,0,0,0 \\n    11\\n    \\n\\n\\n    Datos del archivo entrada2.txt\\n\\n    6\\n    7\\n    0,0,0,0,0,0\\n    0,0,1,0,0,0\\n    0,1,1,1,0,0\\n    0,0,0,0,0,0\\n    0,0,0,0,0,0\\n    1,0,1,0,0,0\\n    0,0,1,1,1,0 \\n    11\\n'"
            ]
          },
          "metadata": {},
          "execution_count": 19
        }
      ]
    },
    {
      "cell_type": "code",
      "metadata": {
        "id": "sEvt_P3Me21x"
      },
      "source": [
        "class JuegoDeLaVida:\n",
        "        def __init__( self, ruta_archivo ):\n",
        "\n",
        "            self.rens = None\n",
        "            self.cola = None\n",
        "            self.tablero = None\n",
        "            self.generaciones = None\n",
        "            self.read_game_data (ruta_archivo)\n",
        "\n",
        "\n",
        "        def read_game_data( self, archivo ):\n",
        "            archivo = open(archivo, 'rt')\n",
        "            lineas = archivo.readlines()\n",
        "            for index in range(len(lineas)):\n",
        "                lineas[index] = lineas[index].strip()\n",
        "            #print(lineas)\n",
        "            self.rens = int( lineas[0] )\n",
        "            self.cols = int( lineas[1] )\n",
        "            self.tablero = Array2DADT(self.rens, self.cols)\n",
        "            r = 0\n",
        "            c = 0\n",
        "            print(lineas)\n",
        "\n",
        "            for index in range(2 , 2 + self.rens , 1 ):\n",
        "                c=0\n",
        "                for dato in lineas[index].split(','):\n",
        "                    self.tablero.set_item( r, c,int(dato) )\n",
        "                    c += 1\n",
        "                r += 1\n",
        "            self.generaciones = int(lineas[ len(lineas) -1 ] )\n",
        "            print(\"Gens: \" , self.generaciones)\n",
        "            print(self.tablero.to_string())\n",
        "\n",
        "        def get_vecinos( self , r , c):\n",
        "            vecinos = []\n",
        "            for ren in range( r-1 , r+2 , 1 ):\n",
        "                for col in range(c-1 , c+2 , 1):\n",
        "                    if ren < 0 or ren >= self.tablero.get_row_size() or col < 0 or col >= self.tablero.get_col_size() or (ren==r and col==c):\n",
        "                        pass\n",
        "                    else:\n",
        "                        vecinos.append((ren,col))\n",
        "            return vecinos\n",
        "\n",
        "        def get_vecinos_vivos(self, r, c):\n",
        "            vecinos = self.get_vecinos(r,c)\n",
        "            vivos = 0\n",
        "            for par in vecinos:\n",
        "                if self.tablero.get_item( par[0] , par[1] ) == 1:\n",
        "                    vivos +=1 \n",
        "            return vivos\n",
        "\n",
        "\n",
        "\n",
        "\n",
        "\n",
        "        def calcular_siguiente( self ):\n",
        "            nueva_gen = Array2DADT(self.rens, self.cols)\n",
        "            # aplicar 4 reglas a cada celula y el resultado ponerlo en nueva_gen\n",
        "            for ren in range(self.rens):\n",
        "                for col in range(self.cols):\n",
        "                    pass\n",
        "\n",
        "            self.tablero = nueva_gen"
      ],
      "execution_count": 20,
      "outputs": []
    },
    {
      "cell_type": "code",
      "metadata": {
        "colab": {
          "base_uri": "https://localhost:8080/"
        },
        "id": "ko3um6tEfG-0",
        "outputId": "bb8f21f8-cf37-417b-c690-ee5791f142e2"
      },
      "source": [
        "Juego1 = JuegoDeLaVida(\"entrada1.txt\")\n",
        "Juego2 = JuegoDeLaVida(\"entrada2.txt\") \n",
        "Juego1.calcular_siguiente()"
      ],
      "execution_count": 23,
      "outputs": [
        {
          "output_type": "stream",
          "name": "stdout",
          "text": [
            "['6', '7', '0,0,0,0,0,0', '0,0,1,0,0,0', '0,1,1,1,0,0', '0,0,0,0,0,0', '0,0,0,0,0,0', '1,0,1,0,0,0', '0,0,0,0,0,0', '11']\n",
            "Gens:  11\n",
            "|0 | 0 | 0 | 0 | 0 | 0 | 0 | \n",
            "|0 | 0 | 1 | 0 | 0 | 0 | 0 | \n",
            "|0 | 1 | 1 | 1 | 0 | 0 | 0 | \n",
            "|0 | 0 | 0 | 0 | 0 | 0 | 0 | \n",
            "|0 | 0 | 0 | 0 | 0 | 0 | 0 | \n",
            "|1 | 0 | 1 | 0 | 0 | 0 | 0 | \n",
            "\n",
            "['6', '7', '0,0,0,0,0,0', '0,0,1,0,0,0', '0,1,1,1,0,0', '0,0,0,0,0,0', '0,0,0,0,0,0', '1,0,1,0,0,0', '0,0,1,1,1,0', '11']\n",
            "Gens:  11\n",
            "|0 | 0 | 0 | 0 | 0 | 0 | 0 | \n",
            "|0 | 0 | 1 | 0 | 0 | 0 | 0 | \n",
            "|0 | 1 | 1 | 1 | 0 | 0 | 0 | \n",
            "|0 | 0 | 0 | 0 | 0 | 0 | 0 | \n",
            "|0 | 0 | 0 | 0 | 0 | 0 | 0 | \n",
            "|1 | 0 | 1 | 0 | 0 | 0 | 0 | \n",
            "\n"
          ]
        }
      ]
    }
  ]
}