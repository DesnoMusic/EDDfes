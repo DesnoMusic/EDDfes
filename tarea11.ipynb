{
  "nbformat": 4,
  "nbformat_minor": 0,
  "metadata": {
    "colab": {
      "name": "tarea11.ipynb",
      "provenance": [],
      "authorship_tag": "ABX9TyN72BVECAo0v/XQH7bvRpMw",
      "include_colab_link": true
    },
    "kernelspec": {
      "name": "python3",
      "display_name": "Python 3"
    },
    "language_info": {
      "name": "python"
    }
  },
  "cells": [
    {
      "cell_type": "markdown",
      "metadata": {
        "id": "view-in-github",
        "colab_type": "text"
      },
      "source": [
        "<a href=\"https://colab.research.google.com/github/DesnoMusic/EDDfes/blob/main/tarea11.ipynb\" target=\"_parent\"><img src=\"https://colab.research.google.com/assets/colab-badge.svg\" alt=\"Open In Colab\"/></a>"
      ]
    },
    {
      "cell_type": "code",
      "source": [
        "def removekey(self,key):\n",
        "    #self.root=self._removekey(self.root,key)\n",
        "    self.root = self._remove(self.root,key)\n",
        "def _remove(self,node,key):\n",
        "    if(node.key == key):        \n",
        "        if(node.rnode!= None):\n",
        "            node.rnode,key,value = self.delmin(node.rnode)\n",
        "            newnode = Node(key,value)\n",
        "            newnode.rnode = node.rnode\n",
        "            newnode.lnode = node.lnode\n",
        "            return newnode\n",
        "        elif(node.lnode!=None):\n",
        "            node.lnode,key,value = self.delmax(node.lnode)\n",
        "            newnode = Node(key,value)\n",
        "            newnode.rnode = node.rnode\n",
        "            newnode.lnode = node.rnode\n",
        "            return newnode\n",
        "        else:\n",
        "            self.count = self.count -1\n",
        "            return None\n",
        "    elif(node.key > key):\n",
        "        node.lnode = self._remove(node.lnode,key)\n",
        "        return node\n",
        "    else:\n",
        "        node.rnode = self._remove(node.rnode,key)\n",
        "        return node\n",
        "\n",
        "def delmin(self,node):\n",
        "    if(node.lnode == None):\n",
        "        self.count = self.count-1\n",
        "        return node.rnode,node.key,node.value\n",
        "    else:\n",
        "        node.lnode,key,value = self.delmin(node.lnode)\n",
        "        return node,key,value\n",
        "def delmax(self,node):\n",
        "    if(node.rnode == None):\n",
        "        self.count = self.count-1\n",
        "        return node.lnode,node.key,node.value\n",
        "    else:\n",
        "        node.rnode,key,value= self.delmax(node.rnode)\n",
        "        return node,key,value"
      ],
      "metadata": {
        "id": "7P6dGL24uL8C"
      },
      "execution_count": 9,
      "outputs": []
    }
  ]
}